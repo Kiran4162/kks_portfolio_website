{
 "cells": [
  {
   "cell_type": "markdown",
   "id": "b4689de9-c8ee-4003-a481-5309ce938802",
   "metadata": {},
   "source": [
    "# Credit Card Fraud Detection"
   ]
  },
  {
   "cell_type": "markdown",
   "id": "0fc950a6-afa7-4ca2-b216-782aba55384d",
   "metadata": {},
   "source": [
    "In this projects I am using 2 datasets 1 is training dataset and the other is for testing dataset. It has 1296675 rows × 23 columns on trainig dataset and 555719 rows × 23 columns in the test dataset where 22 columns are independent variables and the last column i.e., is_fraud is the target variable having binary classification with values 0 and 1. 1 represents Fraudlent and 0 represents Genuine"
   ]
  },
  {
   "cell_type": "markdown",
   "id": "297f1755-220f-4e5d-9949-f63978679215",
   "metadata": {},
   "source": [
    "#### Import all the necessary packages"
   ]
  },
  {
   "cell_type": "code",
   "execution_count": 2,
   "id": "55f101ac-752c-4f14-8c1e-0948c08cb886",
   "metadata": {},
   "outputs": [],
   "source": [
    "import numpy as np\n",
    "import pandas as pd\n",
    "import matplotlib.pyplot as plt\n",
    "import seaborn as sns\n",
    "%matplotlib inline\n",
    "\n",
    "from sklearn.model_selection import GridSearchCV\n",
    "from sklearn.model_selection import train_test_split\n",
    "from sklearn.linear_model import LogisticRegression\n",
    "from sklearn.neighbors import KNeighborsClassifier\n",
    "from sklearn.ensemble import RandomForestClassifier\n",
    "from sklearn.svm import SVC\n",
    "\n",
    "import sklearn.metrics as metrics\n",
    "from sklearn.metrics import f1_score\n",
    "from sklearn.metrics import confusion_matrix, accuracy_score, classification_report"
   ]
  },
  {
   "cell_type": "code",
   "execution_count": 3,
   "id": "b65f40a9-d5d0-4bbb-87c1-b4c2ee3a5739",
   "metadata": {},
   "outputs": [
    {
     "data": {
      "text/html": [
       "<div>\n",
       "<style scoped>\n",
       "    .dataframe tbody tr th:only-of-type {\n",
       "        vertical-align: middle;\n",
       "    }\n",
       "\n",
       "    .dataframe tbody tr th {\n",
       "        vertical-align: top;\n",
       "    }\n",
       "\n",
       "    .dataframe thead th {\n",
       "        text-align: right;\n",
       "    }\n",
       "</style>\n",
       "<table border=\"1\" class=\"dataframe\">\n",
       "  <thead>\n",
       "    <tr style=\"text-align: right;\">\n",
       "      <th></th>\n",
       "      <th>Unnamed: 0</th>\n",
       "      <th>trans_date_trans_time</th>\n",
       "      <th>cc_num</th>\n",
       "      <th>merchant</th>\n",
       "      <th>category</th>\n",
       "      <th>amt</th>\n",
       "      <th>first</th>\n",
       "      <th>last</th>\n",
       "      <th>gender</th>\n",
       "      <th>street</th>\n",
       "      <th>...</th>\n",
       "      <th>lat</th>\n",
       "      <th>long</th>\n",
       "      <th>city_pop</th>\n",
       "      <th>job</th>\n",
       "      <th>dob</th>\n",
       "      <th>trans_num</th>\n",
       "      <th>unix_time</th>\n",
       "      <th>merch_lat</th>\n",
       "      <th>merch_long</th>\n",
       "      <th>is_fraud</th>\n",
       "    </tr>\n",
       "  </thead>\n",
       "  <tbody>\n",
       "    <tr>\n",
       "      <th>0</th>\n",
       "      <td>0</td>\n",
       "      <td>2019-01-01 00:00:18</td>\n",
       "      <td>2703186189652095</td>\n",
       "      <td>fraud_Rippin, Kub and Mann</td>\n",
       "      <td>misc_net</td>\n",
       "      <td>4.97</td>\n",
       "      <td>Jennifer</td>\n",
       "      <td>Banks</td>\n",
       "      <td>F</td>\n",
       "      <td>561 Perry Cove</td>\n",
       "      <td>...</td>\n",
       "      <td>36.0788</td>\n",
       "      <td>-81.1781</td>\n",
       "      <td>3495</td>\n",
       "      <td>Psychologist, counselling</td>\n",
       "      <td>1988-03-09</td>\n",
       "      <td>0b242abb623afc578575680df30655b9</td>\n",
       "      <td>1325376018</td>\n",
       "      <td>36.011293</td>\n",
       "      <td>-82.048315</td>\n",
       "      <td>0</td>\n",
       "    </tr>\n",
       "    <tr>\n",
       "      <th>1</th>\n",
       "      <td>1</td>\n",
       "      <td>2019-01-01 00:00:44</td>\n",
       "      <td>630423337322</td>\n",
       "      <td>fraud_Heller, Gutmann and Zieme</td>\n",
       "      <td>grocery_pos</td>\n",
       "      <td>107.23</td>\n",
       "      <td>Stephanie</td>\n",
       "      <td>Gill</td>\n",
       "      <td>F</td>\n",
       "      <td>43039 Riley Greens Suite 393</td>\n",
       "      <td>...</td>\n",
       "      <td>48.8878</td>\n",
       "      <td>-118.2105</td>\n",
       "      <td>149</td>\n",
       "      <td>Special educational needs teacher</td>\n",
       "      <td>1978-06-21</td>\n",
       "      <td>1f76529f8574734946361c461b024d99</td>\n",
       "      <td>1325376044</td>\n",
       "      <td>49.159047</td>\n",
       "      <td>-118.186462</td>\n",
       "      <td>0</td>\n",
       "    </tr>\n",
       "    <tr>\n",
       "      <th>2</th>\n",
       "      <td>2</td>\n",
       "      <td>2019-01-01 00:00:51</td>\n",
       "      <td>38859492057661</td>\n",
       "      <td>fraud_Lind-Buckridge</td>\n",
       "      <td>entertainment</td>\n",
       "      <td>220.11</td>\n",
       "      <td>Edward</td>\n",
       "      <td>Sanchez</td>\n",
       "      <td>M</td>\n",
       "      <td>594 White Dale Suite 530</td>\n",
       "      <td>...</td>\n",
       "      <td>42.1808</td>\n",
       "      <td>-112.2620</td>\n",
       "      <td>4154</td>\n",
       "      <td>Nature conservation officer</td>\n",
       "      <td>1962-01-19</td>\n",
       "      <td>a1a22d70485983eac12b5b88dad1cf95</td>\n",
       "      <td>1325376051</td>\n",
       "      <td>43.150704</td>\n",
       "      <td>-112.154481</td>\n",
       "      <td>0</td>\n",
       "    </tr>\n",
       "    <tr>\n",
       "      <th>3</th>\n",
       "      <td>3</td>\n",
       "      <td>2019-01-01 00:01:16</td>\n",
       "      <td>3534093764340240</td>\n",
       "      <td>fraud_Kutch, Hermiston and Farrell</td>\n",
       "      <td>gas_transport</td>\n",
       "      <td>45.00</td>\n",
       "      <td>Jeremy</td>\n",
       "      <td>White</td>\n",
       "      <td>M</td>\n",
       "      <td>9443 Cynthia Court Apt. 038</td>\n",
       "      <td>...</td>\n",
       "      <td>46.2306</td>\n",
       "      <td>-112.1138</td>\n",
       "      <td>1939</td>\n",
       "      <td>Patent attorney</td>\n",
       "      <td>1967-01-12</td>\n",
       "      <td>6b849c168bdad6f867558c3793159a81</td>\n",
       "      <td>1325376076</td>\n",
       "      <td>47.034331</td>\n",
       "      <td>-112.561071</td>\n",
       "      <td>0</td>\n",
       "    </tr>\n",
       "    <tr>\n",
       "      <th>4</th>\n",
       "      <td>4</td>\n",
       "      <td>2019-01-01 00:03:06</td>\n",
       "      <td>375534208663984</td>\n",
       "      <td>fraud_Keeling-Crist</td>\n",
       "      <td>misc_pos</td>\n",
       "      <td>41.96</td>\n",
       "      <td>Tyler</td>\n",
       "      <td>Garcia</td>\n",
       "      <td>M</td>\n",
       "      <td>408 Bradley Rest</td>\n",
       "      <td>...</td>\n",
       "      <td>38.4207</td>\n",
       "      <td>-79.4629</td>\n",
       "      <td>99</td>\n",
       "      <td>Dance movement psychotherapist</td>\n",
       "      <td>1986-03-28</td>\n",
       "      <td>a41d7549acf90789359a9aa5346dcb46</td>\n",
       "      <td>1325376186</td>\n",
       "      <td>38.674999</td>\n",
       "      <td>-78.632459</td>\n",
       "      <td>0</td>\n",
       "    </tr>\n",
       "  </tbody>\n",
       "</table>\n",
       "<p>5 rows × 23 columns</p>\n",
       "</div>"
      ],
      "text/plain": [
       "   Unnamed: 0 trans_date_trans_time            cc_num  \\\n",
       "0           0   2019-01-01 00:00:18  2703186189652095   \n",
       "1           1   2019-01-01 00:00:44      630423337322   \n",
       "2           2   2019-01-01 00:00:51    38859492057661   \n",
       "3           3   2019-01-01 00:01:16  3534093764340240   \n",
       "4           4   2019-01-01 00:03:06   375534208663984   \n",
       "\n",
       "                             merchant       category     amt      first  \\\n",
       "0          fraud_Rippin, Kub and Mann       misc_net    4.97   Jennifer   \n",
       "1     fraud_Heller, Gutmann and Zieme    grocery_pos  107.23  Stephanie   \n",
       "2                fraud_Lind-Buckridge  entertainment  220.11     Edward   \n",
       "3  fraud_Kutch, Hermiston and Farrell  gas_transport   45.00     Jeremy   \n",
       "4                 fraud_Keeling-Crist       misc_pos   41.96      Tyler   \n",
       "\n",
       "      last gender                        street  ...      lat      long  \\\n",
       "0    Banks      F                561 Perry Cove  ...  36.0788  -81.1781   \n",
       "1     Gill      F  43039 Riley Greens Suite 393  ...  48.8878 -118.2105   \n",
       "2  Sanchez      M      594 White Dale Suite 530  ...  42.1808 -112.2620   \n",
       "3    White      M   9443 Cynthia Court Apt. 038  ...  46.2306 -112.1138   \n",
       "4   Garcia      M              408 Bradley Rest  ...  38.4207  -79.4629   \n",
       "\n",
       "   city_pop                                job         dob  \\\n",
       "0      3495          Psychologist, counselling  1988-03-09   \n",
       "1       149  Special educational needs teacher  1978-06-21   \n",
       "2      4154        Nature conservation officer  1962-01-19   \n",
       "3      1939                    Patent attorney  1967-01-12   \n",
       "4        99     Dance movement psychotherapist  1986-03-28   \n",
       "\n",
       "                          trans_num   unix_time  merch_lat  merch_long  \\\n",
       "0  0b242abb623afc578575680df30655b9  1325376018  36.011293  -82.048315   \n",
       "1  1f76529f8574734946361c461b024d99  1325376044  49.159047 -118.186462   \n",
       "2  a1a22d70485983eac12b5b88dad1cf95  1325376051  43.150704 -112.154481   \n",
       "3  6b849c168bdad6f867558c3793159a81  1325376076  47.034331 -112.561071   \n",
       "4  a41d7549acf90789359a9aa5346dcb46  1325376186  38.674999  -78.632459   \n",
       "\n",
       "   is_fraud  \n",
       "0         0  \n",
       "1         0  \n",
       "2         0  \n",
       "3         0  \n",
       "4         0  \n",
       "\n",
       "[5 rows x 23 columns]"
      ]
     },
     "execution_count": 3,
     "metadata": {},
     "output_type": "execute_result"
    }
   ],
   "source": [
    "# Train dataset\n",
    "df_train = pd.read_csv('Downloads/credit_card_fraud_codsoft/fraudTrain.csv')\n",
    "df_train.head()"
   ]
  },
  {
   "cell_type": "code",
   "execution_count": 4,
   "id": "c6046116-8e7d-4cc9-b104-8d05f06951c2",
   "metadata": {},
   "outputs": [
    {
     "data": {
      "text/html": [
       "<div>\n",
       "<style scoped>\n",
       "    .dataframe tbody tr th:only-of-type {\n",
       "        vertical-align: middle;\n",
       "    }\n",
       "\n",
       "    .dataframe tbody tr th {\n",
       "        vertical-align: top;\n",
       "    }\n",
       "\n",
       "    .dataframe thead th {\n",
       "        text-align: right;\n",
       "    }\n",
       "</style>\n",
       "<table border=\"1\" class=\"dataframe\">\n",
       "  <thead>\n",
       "    <tr style=\"text-align: right;\">\n",
       "      <th></th>\n",
       "      <th>Unnamed: 0</th>\n",
       "      <th>cc_num</th>\n",
       "      <th>amt</th>\n",
       "      <th>zip</th>\n",
       "      <th>lat</th>\n",
       "      <th>long</th>\n",
       "      <th>city_pop</th>\n",
       "      <th>unix_time</th>\n",
       "      <th>merch_lat</th>\n",
       "      <th>merch_long</th>\n",
       "      <th>is_fraud</th>\n",
       "    </tr>\n",
       "  </thead>\n",
       "  <tbody>\n",
       "    <tr>\n",
       "      <th>count</th>\n",
       "      <td>1.296675e+06</td>\n",
       "      <td>1.296675e+06</td>\n",
       "      <td>1.296675e+06</td>\n",
       "      <td>1.296675e+06</td>\n",
       "      <td>1.296675e+06</td>\n",
       "      <td>1.296675e+06</td>\n",
       "      <td>1.296675e+06</td>\n",
       "      <td>1.296675e+06</td>\n",
       "      <td>1.296675e+06</td>\n",
       "      <td>1.296675e+06</td>\n",
       "      <td>1.296675e+06</td>\n",
       "    </tr>\n",
       "    <tr>\n",
       "      <th>mean</th>\n",
       "      <td>6.483370e+05</td>\n",
       "      <td>4.171920e+17</td>\n",
       "      <td>7.035104e+01</td>\n",
       "      <td>4.880067e+04</td>\n",
       "      <td>3.853762e+01</td>\n",
       "      <td>-9.022634e+01</td>\n",
       "      <td>8.882444e+04</td>\n",
       "      <td>1.349244e+09</td>\n",
       "      <td>3.853734e+01</td>\n",
       "      <td>-9.022646e+01</td>\n",
       "      <td>5.788652e-03</td>\n",
       "    </tr>\n",
       "    <tr>\n",
       "      <th>std</th>\n",
       "      <td>3.743180e+05</td>\n",
       "      <td>1.308806e+18</td>\n",
       "      <td>1.603160e+02</td>\n",
       "      <td>2.689322e+04</td>\n",
       "      <td>5.075808e+00</td>\n",
       "      <td>1.375908e+01</td>\n",
       "      <td>3.019564e+05</td>\n",
       "      <td>1.284128e+07</td>\n",
       "      <td>5.109788e+00</td>\n",
       "      <td>1.377109e+01</td>\n",
       "      <td>7.586269e-02</td>\n",
       "    </tr>\n",
       "    <tr>\n",
       "      <th>min</th>\n",
       "      <td>0.000000e+00</td>\n",
       "      <td>6.041621e+10</td>\n",
       "      <td>1.000000e+00</td>\n",
       "      <td>1.257000e+03</td>\n",
       "      <td>2.002710e+01</td>\n",
       "      <td>-1.656723e+02</td>\n",
       "      <td>2.300000e+01</td>\n",
       "      <td>1.325376e+09</td>\n",
       "      <td>1.902779e+01</td>\n",
       "      <td>-1.666712e+02</td>\n",
       "      <td>0.000000e+00</td>\n",
       "    </tr>\n",
       "    <tr>\n",
       "      <th>25%</th>\n",
       "      <td>3.241685e+05</td>\n",
       "      <td>1.800429e+14</td>\n",
       "      <td>9.650000e+00</td>\n",
       "      <td>2.623700e+04</td>\n",
       "      <td>3.462050e+01</td>\n",
       "      <td>-9.679800e+01</td>\n",
       "      <td>7.430000e+02</td>\n",
       "      <td>1.338751e+09</td>\n",
       "      <td>3.473357e+01</td>\n",
       "      <td>-9.689728e+01</td>\n",
       "      <td>0.000000e+00</td>\n",
       "    </tr>\n",
       "    <tr>\n",
       "      <th>50%</th>\n",
       "      <td>6.483370e+05</td>\n",
       "      <td>3.521417e+15</td>\n",
       "      <td>4.752000e+01</td>\n",
       "      <td>4.817400e+04</td>\n",
       "      <td>3.935430e+01</td>\n",
       "      <td>-8.747690e+01</td>\n",
       "      <td>2.456000e+03</td>\n",
       "      <td>1.349250e+09</td>\n",
       "      <td>3.936568e+01</td>\n",
       "      <td>-8.743839e+01</td>\n",
       "      <td>0.000000e+00</td>\n",
       "    </tr>\n",
       "    <tr>\n",
       "      <th>75%</th>\n",
       "      <td>9.725055e+05</td>\n",
       "      <td>4.642255e+15</td>\n",
       "      <td>8.314000e+01</td>\n",
       "      <td>7.204200e+04</td>\n",
       "      <td>4.194040e+01</td>\n",
       "      <td>-8.015800e+01</td>\n",
       "      <td>2.032800e+04</td>\n",
       "      <td>1.359385e+09</td>\n",
       "      <td>4.195716e+01</td>\n",
       "      <td>-8.023680e+01</td>\n",
       "      <td>0.000000e+00</td>\n",
       "    </tr>\n",
       "    <tr>\n",
       "      <th>max</th>\n",
       "      <td>1.296674e+06</td>\n",
       "      <td>4.992346e+18</td>\n",
       "      <td>2.894890e+04</td>\n",
       "      <td>9.978300e+04</td>\n",
       "      <td>6.669330e+01</td>\n",
       "      <td>-6.795030e+01</td>\n",
       "      <td>2.906700e+06</td>\n",
       "      <td>1.371817e+09</td>\n",
       "      <td>6.751027e+01</td>\n",
       "      <td>-6.695090e+01</td>\n",
       "      <td>1.000000e+00</td>\n",
       "    </tr>\n",
       "  </tbody>\n",
       "</table>\n",
       "</div>"
      ],
      "text/plain": [
       "         Unnamed: 0        cc_num           amt           zip           lat  \\\n",
       "count  1.296675e+06  1.296675e+06  1.296675e+06  1.296675e+06  1.296675e+06   \n",
       "mean   6.483370e+05  4.171920e+17  7.035104e+01  4.880067e+04  3.853762e+01   \n",
       "std    3.743180e+05  1.308806e+18  1.603160e+02  2.689322e+04  5.075808e+00   \n",
       "min    0.000000e+00  6.041621e+10  1.000000e+00  1.257000e+03  2.002710e+01   \n",
       "25%    3.241685e+05  1.800429e+14  9.650000e+00  2.623700e+04  3.462050e+01   \n",
       "50%    6.483370e+05  3.521417e+15  4.752000e+01  4.817400e+04  3.935430e+01   \n",
       "75%    9.725055e+05  4.642255e+15  8.314000e+01  7.204200e+04  4.194040e+01   \n",
       "max    1.296674e+06  4.992346e+18  2.894890e+04  9.978300e+04  6.669330e+01   \n",
       "\n",
       "               long      city_pop     unix_time     merch_lat    merch_long  \\\n",
       "count  1.296675e+06  1.296675e+06  1.296675e+06  1.296675e+06  1.296675e+06   \n",
       "mean  -9.022634e+01  8.882444e+04  1.349244e+09  3.853734e+01 -9.022646e+01   \n",
       "std    1.375908e+01  3.019564e+05  1.284128e+07  5.109788e+00  1.377109e+01   \n",
       "min   -1.656723e+02  2.300000e+01  1.325376e+09  1.902779e+01 -1.666712e+02   \n",
       "25%   -9.679800e+01  7.430000e+02  1.338751e+09  3.473357e+01 -9.689728e+01   \n",
       "50%   -8.747690e+01  2.456000e+03  1.349250e+09  3.936568e+01 -8.743839e+01   \n",
       "75%   -8.015800e+01  2.032800e+04  1.359385e+09  4.195716e+01 -8.023680e+01   \n",
       "max   -6.795030e+01  2.906700e+06  1.371817e+09  6.751027e+01 -6.695090e+01   \n",
       "\n",
       "           is_fraud  \n",
       "count  1.296675e+06  \n",
       "mean   5.788652e-03  \n",
       "std    7.586269e-02  \n",
       "min    0.000000e+00  \n",
       "25%    0.000000e+00  \n",
       "50%    0.000000e+00  \n",
       "75%    0.000000e+00  \n",
       "max    1.000000e+00  "
      ]
     },
     "execution_count": 4,
     "metadata": {},
     "output_type": "execute_result"
    }
   ],
   "source": [
    "df_train.describe()"
   ]
  },
  {
   "cell_type": "code",
   "execution_count": 5,
   "id": "732e8e7f-cc5b-4e0f-8e81-b5ac9e85b086",
   "metadata": {},
   "outputs": [
    {
     "name": "stdout",
     "output_type": "stream",
     "text": [
      "<class 'pandas.core.frame.DataFrame'>\n",
      "RangeIndex: 1296675 entries, 0 to 1296674\n",
      "Data columns (total 23 columns):\n",
      " #   Column                 Non-Null Count    Dtype  \n",
      "---  ------                 --------------    -----  \n",
      " 0   Unnamed: 0             1296675 non-null  int64  \n",
      " 1   trans_date_trans_time  1296675 non-null  object \n",
      " 2   cc_num                 1296675 non-null  int64  \n",
      " 3   merchant               1296675 non-null  object \n",
      " 4   category               1296675 non-null  object \n",
      " 5   amt                    1296675 non-null  float64\n",
      " 6   first                  1296675 non-null  object \n",
      " 7   last                   1296675 non-null  object \n",
      " 8   gender                 1296675 non-null  object \n",
      " 9   street                 1296675 non-null  object \n",
      " 10  city                   1296675 non-null  object \n",
      " 11  state                  1296675 non-null  object \n",
      " 12  zip                    1296675 non-null  int64  \n",
      " 13  lat                    1296675 non-null  float64\n",
      " 14  long                   1296675 non-null  float64\n",
      " 15  city_pop               1296675 non-null  int64  \n",
      " 16  job                    1296675 non-null  object \n",
      " 17  dob                    1296675 non-null  object \n",
      " 18  trans_num              1296675 non-null  object \n",
      " 19  unix_time              1296675 non-null  int64  \n",
      " 20  merch_lat              1296675 non-null  float64\n",
      " 21  merch_long             1296675 non-null  float64\n",
      " 22  is_fraud               1296675 non-null  int64  \n",
      "dtypes: float64(5), int64(6), object(12)\n",
      "memory usage: 227.5+ MB\n"
     ]
    }
   ],
   "source": [
    "df_train.info()"
   ]
  },
  {
   "cell_type": "code",
   "execution_count": 6,
   "id": "91349402-fb47-4fb4-8a24-4d69b9e1cf34",
   "metadata": {},
   "outputs": [
    {
     "data": {
      "text/html": [
       "<div>\n",
       "<style scoped>\n",
       "    .dataframe tbody tr th:only-of-type {\n",
       "        vertical-align: middle;\n",
       "    }\n",
       "\n",
       "    .dataframe tbody tr th {\n",
       "        vertical-align: top;\n",
       "    }\n",
       "\n",
       "    .dataframe thead th {\n",
       "        text-align: right;\n",
       "    }\n",
       "</style>\n",
       "<table border=\"1\" class=\"dataframe\">\n",
       "  <thead>\n",
       "    <tr style=\"text-align: right;\">\n",
       "      <th></th>\n",
       "      <th>Unnamed: 0</th>\n",
       "      <th>trans_date_trans_time</th>\n",
       "      <th>cc_num</th>\n",
       "      <th>merchant</th>\n",
       "      <th>category</th>\n",
       "      <th>amt</th>\n",
       "      <th>first</th>\n",
       "      <th>last</th>\n",
       "      <th>gender</th>\n",
       "      <th>street</th>\n",
       "      <th>...</th>\n",
       "      <th>lat</th>\n",
       "      <th>long</th>\n",
       "      <th>city_pop</th>\n",
       "      <th>job</th>\n",
       "      <th>dob</th>\n",
       "      <th>trans_num</th>\n",
       "      <th>unix_time</th>\n",
       "      <th>merch_lat</th>\n",
       "      <th>merch_long</th>\n",
       "      <th>is_fraud</th>\n",
       "    </tr>\n",
       "  </thead>\n",
       "  <tbody>\n",
       "    <tr>\n",
       "      <th>0</th>\n",
       "      <td>0</td>\n",
       "      <td>2020-06-21 12:14:25</td>\n",
       "      <td>2291163933867244</td>\n",
       "      <td>fraud_Kirlin and Sons</td>\n",
       "      <td>personal_care</td>\n",
       "      <td>2.86</td>\n",
       "      <td>Jeff</td>\n",
       "      <td>Elliott</td>\n",
       "      <td>M</td>\n",
       "      <td>351 Darlene Green</td>\n",
       "      <td>...</td>\n",
       "      <td>33.9659</td>\n",
       "      <td>-80.9355</td>\n",
       "      <td>333497</td>\n",
       "      <td>Mechanical engineer</td>\n",
       "      <td>1968-03-19</td>\n",
       "      <td>2da90c7d74bd46a0caf3777415b3ebd3</td>\n",
       "      <td>1371816865</td>\n",
       "      <td>33.986391</td>\n",
       "      <td>-81.200714</td>\n",
       "      <td>0</td>\n",
       "    </tr>\n",
       "    <tr>\n",
       "      <th>1</th>\n",
       "      <td>1</td>\n",
       "      <td>2020-06-21 12:14:33</td>\n",
       "      <td>3573030041201292</td>\n",
       "      <td>fraud_Sporer-Keebler</td>\n",
       "      <td>personal_care</td>\n",
       "      <td>29.84</td>\n",
       "      <td>Joanne</td>\n",
       "      <td>Williams</td>\n",
       "      <td>F</td>\n",
       "      <td>3638 Marsh Union</td>\n",
       "      <td>...</td>\n",
       "      <td>40.3207</td>\n",
       "      <td>-110.4360</td>\n",
       "      <td>302</td>\n",
       "      <td>Sales professional, IT</td>\n",
       "      <td>1990-01-17</td>\n",
       "      <td>324cc204407e99f51b0d6ca0055005e7</td>\n",
       "      <td>1371816873</td>\n",
       "      <td>39.450498</td>\n",
       "      <td>-109.960431</td>\n",
       "      <td>0</td>\n",
       "    </tr>\n",
       "    <tr>\n",
       "      <th>2</th>\n",
       "      <td>2</td>\n",
       "      <td>2020-06-21 12:14:53</td>\n",
       "      <td>3598215285024754</td>\n",
       "      <td>fraud_Swaniawski, Nitzsche and Welch</td>\n",
       "      <td>health_fitness</td>\n",
       "      <td>41.28</td>\n",
       "      <td>Ashley</td>\n",
       "      <td>Lopez</td>\n",
       "      <td>F</td>\n",
       "      <td>9333 Valentine Point</td>\n",
       "      <td>...</td>\n",
       "      <td>40.6729</td>\n",
       "      <td>-73.5365</td>\n",
       "      <td>34496</td>\n",
       "      <td>Librarian, public</td>\n",
       "      <td>1970-10-21</td>\n",
       "      <td>c81755dbbbea9d5c77f094348a7579be</td>\n",
       "      <td>1371816893</td>\n",
       "      <td>40.495810</td>\n",
       "      <td>-74.196111</td>\n",
       "      <td>0</td>\n",
       "    </tr>\n",
       "    <tr>\n",
       "      <th>3</th>\n",
       "      <td>3</td>\n",
       "      <td>2020-06-21 12:15:15</td>\n",
       "      <td>3591919803438423</td>\n",
       "      <td>fraud_Haley Group</td>\n",
       "      <td>misc_pos</td>\n",
       "      <td>60.05</td>\n",
       "      <td>Brian</td>\n",
       "      <td>Williams</td>\n",
       "      <td>M</td>\n",
       "      <td>32941 Krystal Mill Apt. 552</td>\n",
       "      <td>...</td>\n",
       "      <td>28.5697</td>\n",
       "      <td>-80.8191</td>\n",
       "      <td>54767</td>\n",
       "      <td>Set designer</td>\n",
       "      <td>1987-07-25</td>\n",
       "      <td>2159175b9efe66dc301f149d3d5abf8c</td>\n",
       "      <td>1371816915</td>\n",
       "      <td>28.812398</td>\n",
       "      <td>-80.883061</td>\n",
       "      <td>0</td>\n",
       "    </tr>\n",
       "    <tr>\n",
       "      <th>4</th>\n",
       "      <td>4</td>\n",
       "      <td>2020-06-21 12:15:17</td>\n",
       "      <td>3526826139003047</td>\n",
       "      <td>fraud_Johnston-Casper</td>\n",
       "      <td>travel</td>\n",
       "      <td>3.19</td>\n",
       "      <td>Nathan</td>\n",
       "      <td>Massey</td>\n",
       "      <td>M</td>\n",
       "      <td>5783 Evan Roads Apt. 465</td>\n",
       "      <td>...</td>\n",
       "      <td>44.2529</td>\n",
       "      <td>-85.0170</td>\n",
       "      <td>1126</td>\n",
       "      <td>Furniture designer</td>\n",
       "      <td>1955-07-06</td>\n",
       "      <td>57ff021bd3f328f8738bb535c302a31b</td>\n",
       "      <td>1371816917</td>\n",
       "      <td>44.959148</td>\n",
       "      <td>-85.884734</td>\n",
       "      <td>0</td>\n",
       "    </tr>\n",
       "  </tbody>\n",
       "</table>\n",
       "<p>5 rows × 23 columns</p>\n",
       "</div>"
      ],
      "text/plain": [
       "   Unnamed: 0 trans_date_trans_time            cc_num  \\\n",
       "0           0   2020-06-21 12:14:25  2291163933867244   \n",
       "1           1   2020-06-21 12:14:33  3573030041201292   \n",
       "2           2   2020-06-21 12:14:53  3598215285024754   \n",
       "3           3   2020-06-21 12:15:15  3591919803438423   \n",
       "4           4   2020-06-21 12:15:17  3526826139003047   \n",
       "\n",
       "                               merchant        category    amt   first  \\\n",
       "0                 fraud_Kirlin and Sons   personal_care   2.86    Jeff   \n",
       "1                  fraud_Sporer-Keebler   personal_care  29.84  Joanne   \n",
       "2  fraud_Swaniawski, Nitzsche and Welch  health_fitness  41.28  Ashley   \n",
       "3                     fraud_Haley Group        misc_pos  60.05   Brian   \n",
       "4                 fraud_Johnston-Casper          travel   3.19  Nathan   \n",
       "\n",
       "       last gender                       street  ...      lat      long  \\\n",
       "0   Elliott      M            351 Darlene Green  ...  33.9659  -80.9355   \n",
       "1  Williams      F             3638 Marsh Union  ...  40.3207 -110.4360   \n",
       "2     Lopez      F         9333 Valentine Point  ...  40.6729  -73.5365   \n",
       "3  Williams      M  32941 Krystal Mill Apt. 552  ...  28.5697  -80.8191   \n",
       "4    Massey      M     5783 Evan Roads Apt. 465  ...  44.2529  -85.0170   \n",
       "\n",
       "   city_pop                     job         dob  \\\n",
       "0    333497     Mechanical engineer  1968-03-19   \n",
       "1       302  Sales professional, IT  1990-01-17   \n",
       "2     34496       Librarian, public  1970-10-21   \n",
       "3     54767            Set designer  1987-07-25   \n",
       "4      1126      Furniture designer  1955-07-06   \n",
       "\n",
       "                          trans_num   unix_time  merch_lat  merch_long  \\\n",
       "0  2da90c7d74bd46a0caf3777415b3ebd3  1371816865  33.986391  -81.200714   \n",
       "1  324cc204407e99f51b0d6ca0055005e7  1371816873  39.450498 -109.960431   \n",
       "2  c81755dbbbea9d5c77f094348a7579be  1371816893  40.495810  -74.196111   \n",
       "3  2159175b9efe66dc301f149d3d5abf8c  1371816915  28.812398  -80.883061   \n",
       "4  57ff021bd3f328f8738bb535c302a31b  1371816917  44.959148  -85.884734   \n",
       "\n",
       "   is_fraud  \n",
       "0         0  \n",
       "1         0  \n",
       "2         0  \n",
       "3         0  \n",
       "4         0  \n",
       "\n",
       "[5 rows x 23 columns]"
      ]
     },
     "execution_count": 6,
     "metadata": {},
     "output_type": "execute_result"
    }
   ],
   "source": [
    "# Test Dataset\n",
    "df_test = pd.read_csv('Downloads/credit_card_fraud_codsoft/fraudTest.csv')\n",
    "df_test.head()"
   ]
  },
  {
   "cell_type": "code",
   "execution_count": 7,
   "id": "94775dc8-6feb-4237-9e36-361c7951ab7d",
   "metadata": {},
   "outputs": [
    {
     "data": {
      "text/html": [
       "<div>\n",
       "<style scoped>\n",
       "    .dataframe tbody tr th:only-of-type {\n",
       "        vertical-align: middle;\n",
       "    }\n",
       "\n",
       "    .dataframe tbody tr th {\n",
       "        vertical-align: top;\n",
       "    }\n",
       "\n",
       "    .dataframe thead th {\n",
       "        text-align: right;\n",
       "    }\n",
       "</style>\n",
       "<table border=\"1\" class=\"dataframe\">\n",
       "  <thead>\n",
       "    <tr style=\"text-align: right;\">\n",
       "      <th></th>\n",
       "      <th>Unnamed: 0</th>\n",
       "      <th>cc_num</th>\n",
       "      <th>amt</th>\n",
       "      <th>zip</th>\n",
       "      <th>lat</th>\n",
       "      <th>long</th>\n",
       "      <th>city_pop</th>\n",
       "      <th>unix_time</th>\n",
       "      <th>merch_lat</th>\n",
       "      <th>merch_long</th>\n",
       "      <th>is_fraud</th>\n",
       "    </tr>\n",
       "  </thead>\n",
       "  <tbody>\n",
       "    <tr>\n",
       "      <th>count</th>\n",
       "      <td>555719.000000</td>\n",
       "      <td>5.557190e+05</td>\n",
       "      <td>555719.000000</td>\n",
       "      <td>555719.000000</td>\n",
       "      <td>555719.000000</td>\n",
       "      <td>555719.000000</td>\n",
       "      <td>5.557190e+05</td>\n",
       "      <td>5.557190e+05</td>\n",
       "      <td>555719.000000</td>\n",
       "      <td>555719.000000</td>\n",
       "      <td>555719.000000</td>\n",
       "    </tr>\n",
       "    <tr>\n",
       "      <th>mean</th>\n",
       "      <td>277859.000000</td>\n",
       "      <td>4.178387e+17</td>\n",
       "      <td>69.392810</td>\n",
       "      <td>48842.628015</td>\n",
       "      <td>38.543253</td>\n",
       "      <td>-90.231325</td>\n",
       "      <td>8.822189e+04</td>\n",
       "      <td>1.380679e+09</td>\n",
       "      <td>38.542798</td>\n",
       "      <td>-90.231380</td>\n",
       "      <td>0.003860</td>\n",
       "    </tr>\n",
       "    <tr>\n",
       "      <th>std</th>\n",
       "      <td>160422.401459</td>\n",
       "      <td>1.309837e+18</td>\n",
       "      <td>156.745941</td>\n",
       "      <td>26855.283328</td>\n",
       "      <td>5.061336</td>\n",
       "      <td>13.721780</td>\n",
       "      <td>3.003909e+05</td>\n",
       "      <td>5.201104e+06</td>\n",
       "      <td>5.095829</td>\n",
       "      <td>13.733071</td>\n",
       "      <td>0.062008</td>\n",
       "    </tr>\n",
       "    <tr>\n",
       "      <th>min</th>\n",
       "      <td>0.000000</td>\n",
       "      <td>6.041621e+10</td>\n",
       "      <td>1.000000</td>\n",
       "      <td>1257.000000</td>\n",
       "      <td>20.027100</td>\n",
       "      <td>-165.672300</td>\n",
       "      <td>2.300000e+01</td>\n",
       "      <td>1.371817e+09</td>\n",
       "      <td>19.027422</td>\n",
       "      <td>-166.671575</td>\n",
       "      <td>0.000000</td>\n",
       "    </tr>\n",
       "    <tr>\n",
       "      <th>25%</th>\n",
       "      <td>138929.500000</td>\n",
       "      <td>1.800429e+14</td>\n",
       "      <td>9.630000</td>\n",
       "      <td>26292.000000</td>\n",
       "      <td>34.668900</td>\n",
       "      <td>-96.798000</td>\n",
       "      <td>7.410000e+02</td>\n",
       "      <td>1.376029e+09</td>\n",
       "      <td>34.755302</td>\n",
       "      <td>-96.905129</td>\n",
       "      <td>0.000000</td>\n",
       "    </tr>\n",
       "    <tr>\n",
       "      <th>50%</th>\n",
       "      <td>277859.000000</td>\n",
       "      <td>3.521417e+15</td>\n",
       "      <td>47.290000</td>\n",
       "      <td>48174.000000</td>\n",
       "      <td>39.371600</td>\n",
       "      <td>-87.476900</td>\n",
       "      <td>2.408000e+03</td>\n",
       "      <td>1.380762e+09</td>\n",
       "      <td>39.376593</td>\n",
       "      <td>-87.445204</td>\n",
       "      <td>0.000000</td>\n",
       "    </tr>\n",
       "    <tr>\n",
       "      <th>75%</th>\n",
       "      <td>416788.500000</td>\n",
       "      <td>4.635331e+15</td>\n",
       "      <td>83.010000</td>\n",
       "      <td>72011.000000</td>\n",
       "      <td>41.894800</td>\n",
       "      <td>-80.175200</td>\n",
       "      <td>1.968500e+04</td>\n",
       "      <td>1.385867e+09</td>\n",
       "      <td>41.954163</td>\n",
       "      <td>-80.264637</td>\n",
       "      <td>0.000000</td>\n",
       "    </tr>\n",
       "    <tr>\n",
       "      <th>max</th>\n",
       "      <td>555718.000000</td>\n",
       "      <td>4.992346e+18</td>\n",
       "      <td>22768.110000</td>\n",
       "      <td>99921.000000</td>\n",
       "      <td>65.689900</td>\n",
       "      <td>-67.950300</td>\n",
       "      <td>2.906700e+06</td>\n",
       "      <td>1.388534e+09</td>\n",
       "      <td>66.679297</td>\n",
       "      <td>-66.952026</td>\n",
       "      <td>1.000000</td>\n",
       "    </tr>\n",
       "  </tbody>\n",
       "</table>\n",
       "</div>"
      ],
      "text/plain": [
       "          Unnamed: 0        cc_num            amt            zip  \\\n",
       "count  555719.000000  5.557190e+05  555719.000000  555719.000000   \n",
       "mean   277859.000000  4.178387e+17      69.392810   48842.628015   \n",
       "std    160422.401459  1.309837e+18     156.745941   26855.283328   \n",
       "min         0.000000  6.041621e+10       1.000000    1257.000000   \n",
       "25%    138929.500000  1.800429e+14       9.630000   26292.000000   \n",
       "50%    277859.000000  3.521417e+15      47.290000   48174.000000   \n",
       "75%    416788.500000  4.635331e+15      83.010000   72011.000000   \n",
       "max    555718.000000  4.992346e+18   22768.110000   99921.000000   \n",
       "\n",
       "                 lat           long      city_pop     unix_time  \\\n",
       "count  555719.000000  555719.000000  5.557190e+05  5.557190e+05   \n",
       "mean       38.543253     -90.231325  8.822189e+04  1.380679e+09   \n",
       "std         5.061336      13.721780  3.003909e+05  5.201104e+06   \n",
       "min        20.027100    -165.672300  2.300000e+01  1.371817e+09   \n",
       "25%        34.668900     -96.798000  7.410000e+02  1.376029e+09   \n",
       "50%        39.371600     -87.476900  2.408000e+03  1.380762e+09   \n",
       "75%        41.894800     -80.175200  1.968500e+04  1.385867e+09   \n",
       "max        65.689900     -67.950300  2.906700e+06  1.388534e+09   \n",
       "\n",
       "           merch_lat     merch_long       is_fraud  \n",
       "count  555719.000000  555719.000000  555719.000000  \n",
       "mean       38.542798     -90.231380       0.003860  \n",
       "std         5.095829      13.733071       0.062008  \n",
       "min        19.027422    -166.671575       0.000000  \n",
       "25%        34.755302     -96.905129       0.000000  \n",
       "50%        39.376593     -87.445204       0.000000  \n",
       "75%        41.954163     -80.264637       0.000000  \n",
       "max        66.679297     -66.952026       1.000000  "
      ]
     },
     "execution_count": 7,
     "metadata": {},
     "output_type": "execute_result"
    }
   ],
   "source": [
    "df_test.describe()"
   ]
  },
  {
   "cell_type": "code",
   "execution_count": 8,
   "id": "e525ad1a-7282-4d89-9f17-5703a8225db9",
   "metadata": {},
   "outputs": [
    {
     "name": "stdout",
     "output_type": "stream",
     "text": [
      "<class 'pandas.core.frame.DataFrame'>\n",
      "RangeIndex: 555719 entries, 0 to 555718\n",
      "Data columns (total 23 columns):\n",
      " #   Column                 Non-Null Count   Dtype  \n",
      "---  ------                 --------------   -----  \n",
      " 0   Unnamed: 0             555719 non-null  int64  \n",
      " 1   trans_date_trans_time  555719 non-null  object \n",
      " 2   cc_num                 555719 non-null  int64  \n",
      " 3   merchant               555719 non-null  object \n",
      " 4   category               555719 non-null  object \n",
      " 5   amt                    555719 non-null  float64\n",
      " 6   first                  555719 non-null  object \n",
      " 7   last                   555719 non-null  object \n",
      " 8   gender                 555719 non-null  object \n",
      " 9   street                 555719 non-null  object \n",
      " 10  city                   555719 non-null  object \n",
      " 11  state                  555719 non-null  object \n",
      " 12  zip                    555719 non-null  int64  \n",
      " 13  lat                    555719 non-null  float64\n",
      " 14  long                   555719 non-null  float64\n",
      " 15  city_pop               555719 non-null  int64  \n",
      " 16  job                    555719 non-null  object \n",
      " 17  dob                    555719 non-null  object \n",
      " 18  trans_num              555719 non-null  object \n",
      " 19  unix_time              555719 non-null  int64  \n",
      " 20  merch_lat              555719 non-null  float64\n",
      " 21  merch_long             555719 non-null  float64\n",
      " 22  is_fraud               555719 non-null  int64  \n",
      "dtypes: float64(5), int64(6), object(12)\n",
      "memory usage: 97.5+ MB\n"
     ]
    }
   ],
   "source": [
    "df_test.info()"
   ]
  },
  {
   "cell_type": "code",
   "execution_count": 9,
   "id": "9eb3d06c-1d63-4764-a55d-31ba12da5f9f",
   "metadata": {},
   "outputs": [],
   "source": [
    "# Dropping the unneccessary columns\n",
    "df_train = df_train.drop(columns = ['Unnamed: 0', 'cc_num', 'merchant', 'first', 'last', 'lat', 'long', 'job', 'unix_time', 'merch_lat', 'merch_long','trans_num', 'street', 'city', 'state', 'zip' ])"
   ]
  },
  {
   "cell_type": "code",
   "execution_count": 10,
   "id": "379e9d42-fdbb-4bdf-9521-3746e6237c8e",
   "metadata": {},
   "outputs": [],
   "source": [
    "# Dropping the unneccessary columns\n",
    "df_test = df_test.drop(columns = ['Unnamed: 0', 'cc_num', 'merchant', 'first', 'last', 'lat', 'long', 'job', 'unix_time', 'merch_lat', 'merch_long','trans_num', 'street', 'city', 'state', 'zip'])"
   ]
  },
  {
   "cell_type": "code",
   "execution_count": 11,
   "id": "ab17c936-15f7-4aff-9373-7368dd312a0c",
   "metadata": {},
   "outputs": [
    {
     "name": "stdout",
     "output_type": "stream",
     "text": [
      "Train data : is_fraud\n",
      "0    1289169\n",
      "1       7506\n",
      "Name: count, dtype: int64\n",
      "\n",
      "Test data : is_fraud\n",
      "0    553574\n",
      "1      2145\n",
      "Name: count, dtype: int64\n"
     ]
    }
   ],
   "source": [
    "print(\"Train data :\",df_train.is_fraud.value_counts())\n",
    "print(\"\\nTest data :\",df_test.is_fraud.value_counts())"
   ]
  },
  {
   "cell_type": "markdown",
   "id": "8b8a2019-6498-47a5-bee7-f96f235f3a79",
   "metadata": {},
   "source": [
    "#### Now we need to convert the data type of trans_date_trans_time and dob from object to date type"
   ]
  },
  {
   "cell_type": "code",
   "execution_count": 12,
   "id": "6ce68107-bbc9-490c-b28e-667d9dca77af",
   "metadata": {},
   "outputs": [],
   "source": [
    "# for train data\n",
    "df_train['trans_date_trans_time'] = pd.to_datetime(df_train['trans_date_trans_time'])\n",
    "df_train['dob'] = pd.to_datetime(df_train['dob'])\n",
    "\n",
    "# for test data\n",
    "df_test['trans_date_trans_time'] = pd.to_datetime(df_test['trans_date_trans_time'])\n",
    "df_test['dob'] = pd.to_datetime(df_test['dob'])"
   ]
  },
  {
   "cell_type": "code",
   "execution_count": 13,
   "id": "55521190-1391-436e-9cf2-117d2a39e975",
   "metadata": {},
   "outputs": [
    {
     "name": "stdout",
     "output_type": "stream",
     "text": [
      "<class 'pandas.core.frame.DataFrame'>\n",
      "RangeIndex: 1296675 entries, 0 to 1296674\n",
      "Data columns (total 7 columns):\n",
      " #   Column                 Non-Null Count    Dtype         \n",
      "---  ------                 --------------    -----         \n",
      " 0   trans_date_trans_time  1296675 non-null  datetime64[ns]\n",
      " 1   category               1296675 non-null  object        \n",
      " 2   amt                    1296675 non-null  float64       \n",
      " 3   gender                 1296675 non-null  object        \n",
      " 4   city_pop               1296675 non-null  int64         \n",
      " 5   dob                    1296675 non-null  datetime64[ns]\n",
      " 6   is_fraud               1296675 non-null  int64         \n",
      "dtypes: datetime64[ns](2), float64(1), int64(2), object(2)\n",
      "memory usage: 69.3+ MB\n"
     ]
    }
   ],
   "source": [
    "df_train.info()"
   ]
  },
  {
   "cell_type": "code",
   "execution_count": 14,
   "id": "b10cce40-9b18-4dbd-9a55-23bf805dfbb4",
   "metadata": {},
   "outputs": [
    {
     "name": "stdout",
     "output_type": "stream",
     "text": [
      "<class 'pandas.core.frame.DataFrame'>\n",
      "RangeIndex: 555719 entries, 0 to 555718\n",
      "Data columns (total 7 columns):\n",
      " #   Column                 Non-Null Count   Dtype         \n",
      "---  ------                 --------------   -----         \n",
      " 0   trans_date_trans_time  555719 non-null  datetime64[ns]\n",
      " 1   category               555719 non-null  object        \n",
      " 2   amt                    555719 non-null  float64       \n",
      " 3   gender                 555719 non-null  object        \n",
      " 4   city_pop               555719 non-null  int64         \n",
      " 5   dob                    555719 non-null  datetime64[ns]\n",
      " 6   is_fraud               555719 non-null  int64         \n",
      "dtypes: datetime64[ns](2), float64(1), int64(2), object(2)\n",
      "memory usage: 29.7+ MB\n"
     ]
    }
   ],
   "source": [
    "df_test.info()"
   ]
  },
  {
   "cell_type": "code",
   "execution_count": 15,
   "id": "f0a460d8-6d63-4f83-b7b1-20bf49b6c7e8",
   "metadata": {},
   "outputs": [],
   "source": [
    "df = pd.concat([df_train, df_test], ignore_index=True)"
   ]
  },
  {
   "cell_type": "code",
   "execution_count": 16,
   "id": "618b2ced-5acd-4892-bc3c-3d5517eb16c6",
   "metadata": {},
   "outputs": [
    {
     "data": {
      "text/html": [
       "<div>\n",
       "<style scoped>\n",
       "    .dataframe tbody tr th:only-of-type {\n",
       "        vertical-align: middle;\n",
       "    }\n",
       "\n",
       "    .dataframe tbody tr th {\n",
       "        vertical-align: top;\n",
       "    }\n",
       "\n",
       "    .dataframe thead th {\n",
       "        text-align: right;\n",
       "    }\n",
       "</style>\n",
       "<table border=\"1\" class=\"dataframe\">\n",
       "  <thead>\n",
       "    <tr style=\"text-align: right;\">\n",
       "      <th></th>\n",
       "      <th>trans_date_trans_time</th>\n",
       "      <th>category</th>\n",
       "      <th>amt</th>\n",
       "      <th>gender</th>\n",
       "      <th>city_pop</th>\n",
       "      <th>dob</th>\n",
       "      <th>is_fraud</th>\n",
       "    </tr>\n",
       "  </thead>\n",
       "  <tbody>\n",
       "    <tr>\n",
       "      <th>0</th>\n",
       "      <td>2019-01-01 00:00:18</td>\n",
       "      <td>misc_net</td>\n",
       "      <td>4.97</td>\n",
       "      <td>F</td>\n",
       "      <td>3495</td>\n",
       "      <td>1988-03-09</td>\n",
       "      <td>0</td>\n",
       "    </tr>\n",
       "    <tr>\n",
       "      <th>1</th>\n",
       "      <td>2019-01-01 00:00:44</td>\n",
       "      <td>grocery_pos</td>\n",
       "      <td>107.23</td>\n",
       "      <td>F</td>\n",
       "      <td>149</td>\n",
       "      <td>1978-06-21</td>\n",
       "      <td>0</td>\n",
       "    </tr>\n",
       "    <tr>\n",
       "      <th>2</th>\n",
       "      <td>2019-01-01 00:00:51</td>\n",
       "      <td>entertainment</td>\n",
       "      <td>220.11</td>\n",
       "      <td>M</td>\n",
       "      <td>4154</td>\n",
       "      <td>1962-01-19</td>\n",
       "      <td>0</td>\n",
       "    </tr>\n",
       "    <tr>\n",
       "      <th>3</th>\n",
       "      <td>2019-01-01 00:01:16</td>\n",
       "      <td>gas_transport</td>\n",
       "      <td>45.00</td>\n",
       "      <td>M</td>\n",
       "      <td>1939</td>\n",
       "      <td>1967-01-12</td>\n",
       "      <td>0</td>\n",
       "    </tr>\n",
       "    <tr>\n",
       "      <th>4</th>\n",
       "      <td>2019-01-01 00:03:06</td>\n",
       "      <td>misc_pos</td>\n",
       "      <td>41.96</td>\n",
       "      <td>M</td>\n",
       "      <td>99</td>\n",
       "      <td>1986-03-28</td>\n",
       "      <td>0</td>\n",
       "    </tr>\n",
       "  </tbody>\n",
       "</table>\n",
       "</div>"
      ],
      "text/plain": [
       "  trans_date_trans_time       category     amt gender  city_pop        dob  \\\n",
       "0   2019-01-01 00:00:18       misc_net    4.97      F      3495 1988-03-09   \n",
       "1   2019-01-01 00:00:44    grocery_pos  107.23      F       149 1978-06-21   \n",
       "2   2019-01-01 00:00:51  entertainment  220.11      M      4154 1962-01-19   \n",
       "3   2019-01-01 00:01:16  gas_transport   45.00      M      1939 1967-01-12   \n",
       "4   2019-01-01 00:03:06       misc_pos   41.96      M        99 1986-03-28   \n",
       "\n",
       "   is_fraud  \n",
       "0         0  \n",
       "1         0  \n",
       "2         0  \n",
       "3         0  \n",
       "4         0  "
      ]
     },
     "execution_count": 16,
     "metadata": {},
     "output_type": "execute_result"
    }
   ],
   "source": [
    "df.head()"
   ]
  },
  {
   "cell_type": "markdown",
   "id": "921694c3-f56c-4fe3-b592-59b8a4f698ad",
   "metadata": {},
   "source": [
    "#### Now as the time is in minutes and seconds we need to find out that on which half of the day the transactions have been occured. \n",
    "#### So for that we need to convert the time to hours and put some conditions and add a new column for it"
   ]
  },
  {
   "cell_type": "code",
   "execution_count": 17,
   "id": "140c1ee5-0a78-4389-bdef-c3b89c20581d",
   "metadata": {},
   "outputs": [],
   "source": [
    "df['hrs'] = df['trans_date_trans_time'].dt.hour"
   ]
  },
  {
   "cell_type": "code",
   "execution_count": 18,
   "id": "da3abbef-a1b7-4216-9517-2abdc3362df7",
   "metadata": {},
   "outputs": [
    {
     "data": {
      "text/plain": [
       "array([ 0,  1,  2,  3,  4,  5,  6,  7,  8,  9, 10, 11, 12, 13, 14, 15, 16,\n",
       "       17, 18, 19, 20, 21, 22, 23])"
      ]
     },
     "execution_count": 18,
     "metadata": {},
     "output_type": "execute_result"
    }
   ],
   "source": [
    "df['hrs'].unique()"
   ]
  },
  {
   "cell_type": "markdown",
   "id": "c47c0cdf-6b5b-4d48-8433-c70a83d2ea8a",
   "metadata": {},
   "source": [
    "#### Now lets create a new categorical column based on the time of the day"
   ]
  },
  {
   "cell_type": "code",
   "execution_count": 19,
   "id": "1e1a7c02-a5f0-4cdf-8be2-205d28216eaf",
   "metadata": {},
   "outputs": [],
   "source": [
    "def time_of_day(hour):\n",
    "    if hour['hrs'] >= 4 and hour['hrs'] <= 7:\n",
    "        val = 'morning'\n",
    "    elif hour['hrs'] >= 8 and hour['hrs'] <= 15:\n",
    "        val = 'afternoon'\n",
    "    elif hour['hrs'] >= 16 and hour['hrs'] <= 19:\n",
    "        val = 'evening'\n",
    "    else:\n",
    "        val = 'night'\n",
    "    return val"
   ]
  },
  {
   "cell_type": "code",
   "execution_count": 20,
   "id": "3894aa38-3546-4426-a5f9-cec98b552e3b",
   "metadata": {},
   "outputs": [],
   "source": [
    "df['time_of_day'] = df.apply(time_of_day, axis = 1)"
   ]
  },
  {
   "cell_type": "code",
   "execution_count": 21,
   "id": "b9aa8440-b35f-4ac4-b172-790ba44df835",
   "metadata": {},
   "outputs": [
    {
     "data": {
      "text/html": [
       "<div>\n",
       "<style scoped>\n",
       "    .dataframe tbody tr th:only-of-type {\n",
       "        vertical-align: middle;\n",
       "    }\n",
       "\n",
       "    .dataframe tbody tr th {\n",
       "        vertical-align: top;\n",
       "    }\n",
       "\n",
       "    .dataframe thead th {\n",
       "        text-align: right;\n",
       "    }\n",
       "</style>\n",
       "<table border=\"1\" class=\"dataframe\">\n",
       "  <thead>\n",
       "    <tr style=\"text-align: right;\">\n",
       "      <th></th>\n",
       "      <th>trans_date_trans_time</th>\n",
       "      <th>category</th>\n",
       "      <th>amt</th>\n",
       "      <th>gender</th>\n",
       "      <th>city_pop</th>\n",
       "      <th>dob</th>\n",
       "      <th>is_fraud</th>\n",
       "      <th>hrs</th>\n",
       "      <th>time_of_day</th>\n",
       "    </tr>\n",
       "  </thead>\n",
       "  <tbody>\n",
       "    <tr>\n",
       "      <th>0</th>\n",
       "      <td>2019-01-01 00:00:18</td>\n",
       "      <td>misc_net</td>\n",
       "      <td>4.97</td>\n",
       "      <td>F</td>\n",
       "      <td>3495</td>\n",
       "      <td>1988-03-09</td>\n",
       "      <td>0</td>\n",
       "      <td>0</td>\n",
       "      <td>night</td>\n",
       "    </tr>\n",
       "    <tr>\n",
       "      <th>1</th>\n",
       "      <td>2019-01-01 00:00:44</td>\n",
       "      <td>grocery_pos</td>\n",
       "      <td>107.23</td>\n",
       "      <td>F</td>\n",
       "      <td>149</td>\n",
       "      <td>1978-06-21</td>\n",
       "      <td>0</td>\n",
       "      <td>0</td>\n",
       "      <td>night</td>\n",
       "    </tr>\n",
       "    <tr>\n",
       "      <th>2</th>\n",
       "      <td>2019-01-01 00:00:51</td>\n",
       "      <td>entertainment</td>\n",
       "      <td>220.11</td>\n",
       "      <td>M</td>\n",
       "      <td>4154</td>\n",
       "      <td>1962-01-19</td>\n",
       "      <td>0</td>\n",
       "      <td>0</td>\n",
       "      <td>night</td>\n",
       "    </tr>\n",
       "    <tr>\n",
       "      <th>3</th>\n",
       "      <td>2019-01-01 00:01:16</td>\n",
       "      <td>gas_transport</td>\n",
       "      <td>45.00</td>\n",
       "      <td>M</td>\n",
       "      <td>1939</td>\n",
       "      <td>1967-01-12</td>\n",
       "      <td>0</td>\n",
       "      <td>0</td>\n",
       "      <td>night</td>\n",
       "    </tr>\n",
       "    <tr>\n",
       "      <th>4</th>\n",
       "      <td>2019-01-01 00:03:06</td>\n",
       "      <td>misc_pos</td>\n",
       "      <td>41.96</td>\n",
       "      <td>M</td>\n",
       "      <td>99</td>\n",
       "      <td>1986-03-28</td>\n",
       "      <td>0</td>\n",
       "      <td>0</td>\n",
       "      <td>night</td>\n",
       "    </tr>\n",
       "  </tbody>\n",
       "</table>\n",
       "</div>"
      ],
      "text/plain": [
       "  trans_date_trans_time       category     amt gender  city_pop        dob  \\\n",
       "0   2019-01-01 00:00:18       misc_net    4.97      F      3495 1988-03-09   \n",
       "1   2019-01-01 00:00:44    grocery_pos  107.23      F       149 1978-06-21   \n",
       "2   2019-01-01 00:00:51  entertainment  220.11      M      4154 1962-01-19   \n",
       "3   2019-01-01 00:01:16  gas_transport   45.00      M      1939 1967-01-12   \n",
       "4   2019-01-01 00:03:06       misc_pos   41.96      M        99 1986-03-28   \n",
       "\n",
       "   is_fraud  hrs time_of_day  \n",
       "0         0    0       night  \n",
       "1         0    0       night  \n",
       "2         0    0       night  \n",
       "3         0    0       night  \n",
       "4         0    0       night  "
      ]
     },
     "execution_count": 21,
     "metadata": {},
     "output_type": "execute_result"
    }
   ],
   "source": [
    "df.head()"
   ]
  },
  {
   "cell_type": "markdown",
   "id": "5f2e7049-e0ce-4720-81bd-bc5cb1e0fc06",
   "metadata": {},
   "source": [
    "#### Now lets do the same thing for the age column by taking the dob column into consideration"
   ]
  },
  {
   "cell_type": "code",
   "execution_count": 22,
   "id": "5ba5063e-f137-4944-81f8-750d28785db2",
   "metadata": {},
   "outputs": [],
   "source": [
    "# Extracting the year form the dob\n",
    "df['year_of_birth'] = df['dob'].dt.year"
   ]
  },
  {
   "cell_type": "code",
   "execution_count": 23,
   "id": "634e7fa1-d83c-43e0-8893-38753a7eb22d",
   "metadata": {},
   "outputs": [],
   "source": [
    "def age(age):\n",
    "    if 2024 - age['year_of_birth'] <= 29:\n",
    "        val = 'Young'\n",
    "    elif 2024 - age['year_of_birth'] >= 30 and 2024 - age['year_of_birth'] <= 59:\n",
    "        val = 'Middle_age'\n",
    "    else:\n",
    "        val = 'Old'\n",
    "    return val"
   ]
  },
  {
   "cell_type": "code",
   "execution_count": 24,
   "id": "0e9fa5ce-4ac2-451e-bf76-c98dee79e49e",
   "metadata": {},
   "outputs": [],
   "source": [
    "df['age'] = df.apply(age, axis = 1)"
   ]
  },
  {
   "cell_type": "code",
   "execution_count": 25,
   "id": "3a300f38-ddfd-4869-93a6-4a04eb16bead",
   "metadata": {},
   "outputs": [
    {
     "data": {
      "text/html": [
       "<div>\n",
       "<style scoped>\n",
       "    .dataframe tbody tr th:only-of-type {\n",
       "        vertical-align: middle;\n",
       "    }\n",
       "\n",
       "    .dataframe tbody tr th {\n",
       "        vertical-align: top;\n",
       "    }\n",
       "\n",
       "    .dataframe thead th {\n",
       "        text-align: right;\n",
       "    }\n",
       "</style>\n",
       "<table border=\"1\" class=\"dataframe\">\n",
       "  <thead>\n",
       "    <tr style=\"text-align: right;\">\n",
       "      <th></th>\n",
       "      <th>trans_date_trans_time</th>\n",
       "      <th>category</th>\n",
       "      <th>amt</th>\n",
       "      <th>gender</th>\n",
       "      <th>city_pop</th>\n",
       "      <th>dob</th>\n",
       "      <th>is_fraud</th>\n",
       "      <th>hrs</th>\n",
       "      <th>time_of_day</th>\n",
       "      <th>year_of_birth</th>\n",
       "      <th>age</th>\n",
       "    </tr>\n",
       "  </thead>\n",
       "  <tbody>\n",
       "    <tr>\n",
       "      <th>0</th>\n",
       "      <td>2019-01-01 00:00:18</td>\n",
       "      <td>misc_net</td>\n",
       "      <td>4.97</td>\n",
       "      <td>F</td>\n",
       "      <td>3495</td>\n",
       "      <td>1988-03-09</td>\n",
       "      <td>0</td>\n",
       "      <td>0</td>\n",
       "      <td>night</td>\n",
       "      <td>1988</td>\n",
       "      <td>Middle_age</td>\n",
       "    </tr>\n",
       "    <tr>\n",
       "      <th>1</th>\n",
       "      <td>2019-01-01 00:00:44</td>\n",
       "      <td>grocery_pos</td>\n",
       "      <td>107.23</td>\n",
       "      <td>F</td>\n",
       "      <td>149</td>\n",
       "      <td>1978-06-21</td>\n",
       "      <td>0</td>\n",
       "      <td>0</td>\n",
       "      <td>night</td>\n",
       "      <td>1978</td>\n",
       "      <td>Middle_age</td>\n",
       "    </tr>\n",
       "    <tr>\n",
       "      <th>2</th>\n",
       "      <td>2019-01-01 00:00:51</td>\n",
       "      <td>entertainment</td>\n",
       "      <td>220.11</td>\n",
       "      <td>M</td>\n",
       "      <td>4154</td>\n",
       "      <td>1962-01-19</td>\n",
       "      <td>0</td>\n",
       "      <td>0</td>\n",
       "      <td>night</td>\n",
       "      <td>1962</td>\n",
       "      <td>Old</td>\n",
       "    </tr>\n",
       "    <tr>\n",
       "      <th>3</th>\n",
       "      <td>2019-01-01 00:01:16</td>\n",
       "      <td>gas_transport</td>\n",
       "      <td>45.00</td>\n",
       "      <td>M</td>\n",
       "      <td>1939</td>\n",
       "      <td>1967-01-12</td>\n",
       "      <td>0</td>\n",
       "      <td>0</td>\n",
       "      <td>night</td>\n",
       "      <td>1967</td>\n",
       "      <td>Middle_age</td>\n",
       "    </tr>\n",
       "    <tr>\n",
       "      <th>4</th>\n",
       "      <td>2019-01-01 00:03:06</td>\n",
       "      <td>misc_pos</td>\n",
       "      <td>41.96</td>\n",
       "      <td>M</td>\n",
       "      <td>99</td>\n",
       "      <td>1986-03-28</td>\n",
       "      <td>0</td>\n",
       "      <td>0</td>\n",
       "      <td>night</td>\n",
       "      <td>1986</td>\n",
       "      <td>Middle_age</td>\n",
       "    </tr>\n",
       "  </tbody>\n",
       "</table>\n",
       "</div>"
      ],
      "text/plain": [
       "  trans_date_trans_time       category     amt gender  city_pop        dob  \\\n",
       "0   2019-01-01 00:00:18       misc_net    4.97      F      3495 1988-03-09   \n",
       "1   2019-01-01 00:00:44    grocery_pos  107.23      F       149 1978-06-21   \n",
       "2   2019-01-01 00:00:51  entertainment  220.11      M      4154 1962-01-19   \n",
       "3   2019-01-01 00:01:16  gas_transport   45.00      M      1939 1967-01-12   \n",
       "4   2019-01-01 00:03:06       misc_pos   41.96      M        99 1986-03-28   \n",
       "\n",
       "   is_fraud  hrs time_of_day  year_of_birth         age  \n",
       "0         0    0       night           1988  Middle_age  \n",
       "1         0    0       night           1978  Middle_age  \n",
       "2         0    0       night           1962         Old  \n",
       "3         0    0       night           1967  Middle_age  \n",
       "4         0    0       night           1986  Middle_age  "
      ]
     },
     "execution_count": 25,
     "metadata": {},
     "output_type": "execute_result"
    }
   ],
   "source": [
    "df.head()"
   ]
  },
  {
   "cell_type": "markdown",
   "id": "0cda18ee-c479-4e69-9e56-3275c157a2be",
   "metadata": {},
   "source": [
    "#### Now lets drop some unwanted columns which we have already processed"
   ]
  },
  {
   "cell_type": "code",
   "execution_count": 26,
   "id": "67a7f28e-6a29-4801-8db8-ca5fbcedc5cd",
   "metadata": {},
   "outputs": [],
   "source": [
    "df = df.drop(['trans_date_trans_time', 'dob', 'hrs', 'year_of_birth'], axis = 1)"
   ]
  },
  {
   "cell_type": "code",
   "execution_count": 27,
   "id": "05308a93-b75b-4917-a7d1-e50c4888397f",
   "metadata": {},
   "outputs": [
    {
     "data": {
      "text/html": [
       "<div>\n",
       "<style scoped>\n",
       "    .dataframe tbody tr th:only-of-type {\n",
       "        vertical-align: middle;\n",
       "    }\n",
       "\n",
       "    .dataframe tbody tr th {\n",
       "        vertical-align: top;\n",
       "    }\n",
       "\n",
       "    .dataframe thead th {\n",
       "        text-align: right;\n",
       "    }\n",
       "</style>\n",
       "<table border=\"1\" class=\"dataframe\">\n",
       "  <thead>\n",
       "    <tr style=\"text-align: right;\">\n",
       "      <th></th>\n",
       "      <th>category</th>\n",
       "      <th>amt</th>\n",
       "      <th>gender</th>\n",
       "      <th>city_pop</th>\n",
       "      <th>is_fraud</th>\n",
       "      <th>time_of_day</th>\n",
       "      <th>age</th>\n",
       "    </tr>\n",
       "  </thead>\n",
       "  <tbody>\n",
       "    <tr>\n",
       "      <th>0</th>\n",
       "      <td>misc_net</td>\n",
       "      <td>4.97</td>\n",
       "      <td>F</td>\n",
       "      <td>3495</td>\n",
       "      <td>0</td>\n",
       "      <td>night</td>\n",
       "      <td>Middle_age</td>\n",
       "    </tr>\n",
       "    <tr>\n",
       "      <th>1</th>\n",
       "      <td>grocery_pos</td>\n",
       "      <td>107.23</td>\n",
       "      <td>F</td>\n",
       "      <td>149</td>\n",
       "      <td>0</td>\n",
       "      <td>night</td>\n",
       "      <td>Middle_age</td>\n",
       "    </tr>\n",
       "    <tr>\n",
       "      <th>2</th>\n",
       "      <td>entertainment</td>\n",
       "      <td>220.11</td>\n",
       "      <td>M</td>\n",
       "      <td>4154</td>\n",
       "      <td>0</td>\n",
       "      <td>night</td>\n",
       "      <td>Old</td>\n",
       "    </tr>\n",
       "    <tr>\n",
       "      <th>3</th>\n",
       "      <td>gas_transport</td>\n",
       "      <td>45.00</td>\n",
       "      <td>M</td>\n",
       "      <td>1939</td>\n",
       "      <td>0</td>\n",
       "      <td>night</td>\n",
       "      <td>Middle_age</td>\n",
       "    </tr>\n",
       "    <tr>\n",
       "      <th>4</th>\n",
       "      <td>misc_pos</td>\n",
       "      <td>41.96</td>\n",
       "      <td>M</td>\n",
       "      <td>99</td>\n",
       "      <td>0</td>\n",
       "      <td>night</td>\n",
       "      <td>Middle_age</td>\n",
       "    </tr>\n",
       "  </tbody>\n",
       "</table>\n",
       "</div>"
      ],
      "text/plain": [
       "        category     amt gender  city_pop  is_fraud time_of_day         age\n",
       "0       misc_net    4.97      F      3495         0       night  Middle_age\n",
       "1    grocery_pos  107.23      F       149         0       night  Middle_age\n",
       "2  entertainment  220.11      M      4154         0       night         Old\n",
       "3  gas_transport   45.00      M      1939         0       night  Middle_age\n",
       "4       misc_pos   41.96      M        99         0       night  Middle_age"
      ]
     },
     "execution_count": 27,
     "metadata": {},
     "output_type": "execute_result"
    }
   ],
   "source": [
    "df.head()"
   ]
  },
  {
   "cell_type": "code",
   "execution_count": 28,
   "id": "84bcb9de-254b-489d-abe7-939360442f1c",
   "metadata": {},
   "outputs": [],
   "source": [
    "df['is_fraud'] = df['is_fraud'].astype(str)"
   ]
  },
  {
   "cell_type": "code",
   "execution_count": 29,
   "id": "86899c87-6228-44ab-b27a-5abccb649e8f",
   "metadata": {},
   "outputs": [
    {
     "data": {
      "text/plain": [
       "Text(0.5, 1.0, 'Gender Vs Is_Fraud')"
      ]
     },
     "execution_count": 29,
     "metadata": {},
     "output_type": "execute_result"
    },
    {
     "data": {
      "image/png": "[encoded data removed]",
      "text/plain": [
       "<Figure size 640x480 with 1 Axes>"
      ]
     },
     "metadata": {},
     "output_type": "display_data"
    }
   ],
   "source": [
    "# first compare between category and is_fraud\n",
    "sns.countplot(data = df, x = 'gender', hue = 'is_fraud')\n",
    "plt.legend(title = 'is_fraud')\n",
    "plt.title('Gender Vs Is_Fraud')"
   ]
  },
  {
   "cell_type": "code",
   "execution_count": 30,
   "id": "0c7747d9-da5c-4562-8974-fda343337a6f",
   "metadata": {},
   "outputs": [
    {
     "data": {
      "text/plain": [
       "Text(0.5, 1.0, 'Age Distribution on Fraud')"
      ]
     },
     "execution_count": 30,
     "metadata": {},
     "output_type": "execute_result"
    },
    {
     "data": {
      "image/png": "[encoded data removed]",
      "text/plain": [
       "<Figure size 640x480 with 1 Axes>"
      ]
     },
     "metadata": {},
     "output_type": "display_data"
    }
   ],
   "source": [
    "sns.countplot(data = df, x = 'age', hue = 'is_fraud', order = ['Young', 'Middle_age', 'Old'])\n",
    "plt.legend(title = 'is_fraud')\n",
    "plt.title('Age Distribution on Fraud')"
   ]
  },
  {
   "cell_type": "code",
   "execution_count": 31,
   "id": "79c859d8-c3a5-41f4-854a-3b79f7aa31b9",
   "metadata": {},
   "outputs": [
    {
     "data": {
      "text/plain": [
       "(array([ 0,  1,  2,  3,  4,  5,  6,  7,  8,  9, 10, 11, 12, 13]),\n",
       " [Text(0, 0, 'misc_net'),\n",
       "  Text(1, 0, 'grocery_pos'),\n",
       "  Text(2, 0, 'entertainment'),\n",
       "  Text(3, 0, 'gas_transport'),\n",
       "  Text(4, 0, 'misc_pos'),\n",
       "  Text(5, 0, 'grocery_net'),\n",
       "  Text(6, 0, 'shopping_net'),\n",
       "  Text(7, 0, 'shopping_pos'),\n",
       "  Text(8, 0, 'food_dining'),\n",
       "  Text(9, 0, 'personal_care'),\n",
       "  Text(10, 0, 'health_fitness'),\n",
       "  Text(11, 0, 'travel'),\n",
       "  Text(12, 0, 'kids_pets'),\n",
       "  Text(13, 0, 'home')])"
      ]
     },
     "execution_count": 31,
     "metadata": {},
     "output_type": "execute_result"
    },
    {
     "data": {
      "image/png": "[encoded data removed]",
      "text/plain": [
       "<Figure size 1000x800 with 1 Axes>"
      ]
     },
     "metadata": {},
     "output_type": "display_data"
    }
   ],
   "source": [
    "plt.figure(figsize = (10,8))\n",
    "sns.countplot(data = df, x = 'category', hue = 'is_fraud')\n",
    "plt.legend(title = 'is_fraud')\n",
    "plt.title(\"Category distribution on Fraud\")\n",
    "plt.xticks(rotation = 45)"
   ]
  },
  {
   "cell_type": "code",
   "execution_count": 32,
   "id": "93976e0e-0df6-4e23-b45c-75d797ca2cbc",
   "metadata": {},
   "outputs": [
    {
     "data": {
      "text/plain": [
       "Text(0.5, 1.0, 'Time of Day on Fraud')"
      ]
     },
     "execution_count": 32,
     "metadata": {},
     "output_type": "execute_result"
    },
    {
     "data": {
      "image/png": "[encoded data removed]",
      "text/plain": [
       "<Figure size 640x480 with 1 Axes>"
      ]
     },
     "metadata": {},
     "output_type": "display_data"
    }
   ],
   "source": [
    "sns.countplot(data = df, x = 'time_of_day', hue = 'is_fraud', order = ['morning', 'afternoon', 'evening', 'night'])\n",
    "plt.legend(title = 'is_fraud')\n",
    "plt.title('Time of Day on Fraud')"
   ]
  },
  {
   "cell_type": "code",
   "execution_count": 33,
   "id": "80aa6a51-b42d-41a6-a869-a300d91da65a",
   "metadata": {},
   "outputs": [
    {
     "data": {
      "text/plain": [
       "(array([ 0,  1,  2,  3,  4,  5,  6,  7,  8,  9, 10, 11, 12, 13]),\n",
       " [Text(0, 0, 'gas_transport'),\n",
       "  Text(1, 0, 'grocery_pos'),\n",
       "  Text(2, 0, 'home'),\n",
       "  Text(3, 0, 'shopping_pos'),\n",
       "  Text(4, 0, 'kids_pets'),\n",
       "  Text(5, 0, 'shopping_net'),\n",
       "  Text(6, 0, 'entertainment'),\n",
       "  Text(7, 0, 'food_dining'),\n",
       "  Text(8, 0, 'personal_care'),\n",
       "  Text(9, 0, 'health_fitness'),\n",
       "  Text(10, 0, 'misc_pos'),\n",
       "  Text(11, 0, 'misc_net'),\n",
       "  Text(12, 0, 'grocery_net'),\n",
       "  Text(13, 0, 'travel')])"
      ]
     },
     "execution_count": 33,
     "metadata": {},
     "output_type": "execute_result"
    },
    {
     "data": {
      "image/png": "[encoded data removed]",
      "text/plain": [
       "<Figure size 640x480 with 1 Axes>"
      ]
     },
     "metadata": {},
     "output_type": "display_data"
    }
   ],
   "source": [
    "sns.countplot(data = df, x='category', order=df['category'].value_counts().index)\n",
    "plt.xticks(rotation = 45)"
   ]
  },
  {
   "cell_type": "markdown",
   "id": "d0d46195-3f42-4b9a-a4bd-2b138ba1e4af",
   "metadata": {},
   "source": [
    "#### One_hot Encoding"
   ]
  },
  {
   "cell_type": "code",
   "execution_count": 34,
   "id": "3de134b9-8e32-4e74-ad07-a7729cdee178",
   "metadata": {},
   "outputs": [],
   "source": [
    "# Column to exclude from encoding\n",
    "exclude_col = 'is_fraud'\n",
    "\n",
    "# Extract the column to exclude\n",
    "excluded_col_df = df[[exclude_col]]"
   ]
  },
  {
   "cell_type": "code",
   "execution_count": 35,
   "id": "7bd02794-cfd5-4a3a-af1d-b6f012e6d562",
   "metadata": {},
   "outputs": [
    {
     "data": {
      "text/html": [
       "<div>\n",
       "<style scoped>\n",
       "    .dataframe tbody tr th:only-of-type {\n",
       "        vertical-align: middle;\n",
       "    }\n",
       "\n",
       "    .dataframe tbody tr th {\n",
       "        vertical-align: top;\n",
       "    }\n",
       "\n",
       "    .dataframe thead th {\n",
       "        text-align: right;\n",
       "    }\n",
       "</style>\n",
       "<table border=\"1\" class=\"dataframe\">\n",
       "  <thead>\n",
       "    <tr style=\"text-align: right;\">\n",
       "      <th></th>\n",
       "      <th>is_fraud</th>\n",
       "    </tr>\n",
       "  </thead>\n",
       "  <tbody>\n",
       "    <tr>\n",
       "      <th>0</th>\n",
       "      <td>0</td>\n",
       "    </tr>\n",
       "    <tr>\n",
       "      <th>1</th>\n",
       "      <td>0</td>\n",
       "    </tr>\n",
       "    <tr>\n",
       "      <th>2</th>\n",
       "      <td>0</td>\n",
       "    </tr>\n",
       "    <tr>\n",
       "      <th>3</th>\n",
       "      <td>0</td>\n",
       "    </tr>\n",
       "    <tr>\n",
       "      <th>4</th>\n",
       "      <td>0</td>\n",
       "    </tr>\n",
       "    <tr>\n",
       "      <th>...</th>\n",
       "      <td>...</td>\n",
       "    </tr>\n",
       "    <tr>\n",
       "      <th>1852389</th>\n",
       "      <td>0</td>\n",
       "    </tr>\n",
       "    <tr>\n",
       "      <th>1852390</th>\n",
       "      <td>0</td>\n",
       "    </tr>\n",
       "    <tr>\n",
       "      <th>1852391</th>\n",
       "      <td>0</td>\n",
       "    </tr>\n",
       "    <tr>\n",
       "      <th>1852392</th>\n",
       "      <td>0</td>\n",
       "    </tr>\n",
       "    <tr>\n",
       "      <th>1852393</th>\n",
       "      <td>0</td>\n",
       "    </tr>\n",
       "  </tbody>\n",
       "</table>\n",
       "<p>1852394 rows × 1 columns</p>\n",
       "</div>"
      ],
      "text/plain": [
       "        is_fraud\n",
       "0              0\n",
       "1              0\n",
       "2              0\n",
       "3              0\n",
       "4              0\n",
       "...          ...\n",
       "1852389        0\n",
       "1852390        0\n",
       "1852391        0\n",
       "1852392        0\n",
       "1852393        0\n",
       "\n",
       "[1852394 rows x 1 columns]"
      ]
     },
     "execution_count": 35,
     "metadata": {},
     "output_type": "execute_result"
    }
   ],
   "source": [
    "excluded_col_df"
   ]
  },
  {
   "cell_type": "code",
   "execution_count": 36,
   "id": "5c75a960-e8b1-443c-a51b-b3494f8cf151",
   "metadata": {},
   "outputs": [],
   "source": [
    "encoded_df = pd.get_dummies(df.drop(columns=[exclude_col]))"
   ]
  },
  {
   "cell_type": "code",
   "execution_count": 37,
   "id": "58a883b5-5be0-4e59-81ae-543ac2606e37",
   "metadata": {},
   "outputs": [],
   "source": [
    "encoded_df = encoded_df.astype(int)"
   ]
  },
  {
   "cell_type": "code",
   "execution_count": 38,
   "id": "c4672c5d-10c3-45a8-b125-5a90a5db0474",
   "metadata": {},
   "outputs": [
    {
     "data": {
      "text/html": [
       "<div>\n",
       "<style scoped>\n",
       "    .dataframe tbody tr th:only-of-type {\n",
       "        vertical-align: middle;\n",
       "    }\n",
       "\n",
       "    .dataframe tbody tr th {\n",
       "        vertical-align: top;\n",
       "    }\n",
       "\n",
       "    .dataframe thead th {\n",
       "        text-align: right;\n",
       "    }\n",
       "</style>\n",
       "<table border=\"1\" class=\"dataframe\">\n",
       "  <thead>\n",
       "    <tr style=\"text-align: right;\">\n",
       "      <th></th>\n",
       "      <th>amt</th>\n",
       "      <th>city_pop</th>\n",
       "      <th>category_entertainment</th>\n",
       "      <th>category_food_dining</th>\n",
       "      <th>category_gas_transport</th>\n",
       "      <th>category_grocery_net</th>\n",
       "      <th>category_grocery_pos</th>\n",
       "      <th>category_health_fitness</th>\n",
       "      <th>category_home</th>\n",
       "      <th>category_kids_pets</th>\n",
       "      <th>...</th>\n",
       "      <th>category_travel</th>\n",
       "      <th>gender_F</th>\n",
       "      <th>gender_M</th>\n",
       "      <th>time_of_day_afternoon</th>\n",
       "      <th>time_of_day_evening</th>\n",
       "      <th>time_of_day_morning</th>\n",
       "      <th>time_of_day_night</th>\n",
       "      <th>age_Middle_age</th>\n",
       "      <th>age_Old</th>\n",
       "      <th>age_Young</th>\n",
       "    </tr>\n",
       "  </thead>\n",
       "  <tbody>\n",
       "    <tr>\n",
       "      <th>0</th>\n",
       "      <td>4</td>\n",
       "      <td>3495</td>\n",
       "      <td>0</td>\n",
       "      <td>0</td>\n",
       "      <td>0</td>\n",
       "      <td>0</td>\n",
       "      <td>0</td>\n",
       "      <td>0</td>\n",
       "      <td>0</td>\n",
       "      <td>0</td>\n",
       "      <td>...</td>\n",
       "      <td>0</td>\n",
       "      <td>1</td>\n",
       "      <td>0</td>\n",
       "      <td>0</td>\n",
       "      <td>0</td>\n",
       "      <td>0</td>\n",
       "      <td>1</td>\n",
       "      <td>1</td>\n",
       "      <td>0</td>\n",
       "      <td>0</td>\n",
       "    </tr>\n",
       "    <tr>\n",
       "      <th>1</th>\n",
       "      <td>107</td>\n",
       "      <td>149</td>\n",
       "      <td>0</td>\n",
       "      <td>0</td>\n",
       "      <td>0</td>\n",
       "      <td>0</td>\n",
       "      <td>1</td>\n",
       "      <td>0</td>\n",
       "      <td>0</td>\n",
       "      <td>0</td>\n",
       "      <td>...</td>\n",
       "      <td>0</td>\n",
       "      <td>1</td>\n",
       "      <td>0</td>\n",
       "      <td>0</td>\n",
       "      <td>0</td>\n",
       "      <td>0</td>\n",
       "      <td>1</td>\n",
       "      <td>1</td>\n",
       "      <td>0</td>\n",
       "      <td>0</td>\n",
       "    </tr>\n",
       "    <tr>\n",
       "      <th>2</th>\n",
       "      <td>220</td>\n",
       "      <td>4154</td>\n",
       "      <td>1</td>\n",
       "      <td>0</td>\n",
       "      <td>0</td>\n",
       "      <td>0</td>\n",
       "      <td>0</td>\n",
       "      <td>0</td>\n",
       "      <td>0</td>\n",
       "      <td>0</td>\n",
       "      <td>...</td>\n",
       "      <td>0</td>\n",
       "      <td>0</td>\n",
       "      <td>1</td>\n",
       "      <td>0</td>\n",
       "      <td>0</td>\n",
       "      <td>0</td>\n",
       "      <td>1</td>\n",
       "      <td>0</td>\n",
       "      <td>1</td>\n",
       "      <td>0</td>\n",
       "    </tr>\n",
       "    <tr>\n",
       "      <th>3</th>\n",
       "      <td>45</td>\n",
       "      <td>1939</td>\n",
       "      <td>0</td>\n",
       "      <td>0</td>\n",
       "      <td>1</td>\n",
       "      <td>0</td>\n",
       "      <td>0</td>\n",
       "      <td>0</td>\n",
       "      <td>0</td>\n",
       "      <td>0</td>\n",
       "      <td>...</td>\n",
       "      <td>0</td>\n",
       "      <td>0</td>\n",
       "      <td>1</td>\n",
       "      <td>0</td>\n",
       "      <td>0</td>\n",
       "      <td>0</td>\n",
       "      <td>1</td>\n",
       "      <td>1</td>\n",
       "      <td>0</td>\n",
       "      <td>0</td>\n",
       "    </tr>\n",
       "    <tr>\n",
       "      <th>4</th>\n",
       "      <td>41</td>\n",
       "      <td>99</td>\n",
       "      <td>0</td>\n",
       "      <td>0</td>\n",
       "      <td>0</td>\n",
       "      <td>0</td>\n",
       "      <td>0</td>\n",
       "      <td>0</td>\n",
       "      <td>0</td>\n",
       "      <td>0</td>\n",
       "      <td>...</td>\n",
       "      <td>0</td>\n",
       "      <td>0</td>\n",
       "      <td>1</td>\n",
       "      <td>0</td>\n",
       "      <td>0</td>\n",
       "      <td>0</td>\n",
       "      <td>1</td>\n",
       "      <td>1</td>\n",
       "      <td>0</td>\n",
       "      <td>0</td>\n",
       "    </tr>\n",
       "  </tbody>\n",
       "</table>\n",
       "<p>5 rows × 25 columns</p>\n",
       "</div>"
      ],
      "text/plain": [
       "   amt  city_pop  category_entertainment  category_food_dining  \\\n",
       "0    4      3495                       0                     0   \n",
       "1  107       149                       0                     0   \n",
       "2  220      4154                       1                     0   \n",
       "3   45      1939                       0                     0   \n",
       "4   41        99                       0                     0   \n",
       "\n",
       "   category_gas_transport  category_grocery_net  category_grocery_pos  \\\n",
       "0                       0                     0                     0   \n",
       "1                       0                     0                     1   \n",
       "2                       0                     0                     0   \n",
       "3                       1                     0                     0   \n",
       "4                       0                     0                     0   \n",
       "\n",
       "   category_health_fitness  category_home  category_kids_pets  ...  \\\n",
       "0                        0              0                   0  ...   \n",
       "1                        0              0                   0  ...   \n",
       "2                        0              0                   0  ...   \n",
       "3                        0              0                   0  ...   \n",
       "4                        0              0                   0  ...   \n",
       "\n",
       "   category_travel  gender_F  gender_M  time_of_day_afternoon  \\\n",
       "0                0         1         0                      0   \n",
       "1                0         1         0                      0   \n",
       "2                0         0         1                      0   \n",
       "3                0         0         1                      0   \n",
       "4                0         0         1                      0   \n",
       "\n",
       "   time_of_day_evening  time_of_day_morning  time_of_day_night  \\\n",
       "0                    0                    0                  1   \n",
       "1                    0                    0                  1   \n",
       "2                    0                    0                  1   \n",
       "3                    0                    0                  1   \n",
       "4                    0                    0                  1   \n",
       "\n",
       "   age_Middle_age  age_Old  age_Young  \n",
       "0               1        0          0  \n",
       "1               1        0          0  \n",
       "2               0        1          0  \n",
       "3               1        0          0  \n",
       "4               1        0          0  \n",
       "\n",
       "[5 rows x 25 columns]"
      ]
     },
     "execution_count": 38,
     "metadata": {},
     "output_type": "execute_result"
    }
   ],
   "source": [
    "encoded_df.head()"
   ]
  },
  {
   "cell_type": "code",
   "execution_count": 39,
   "id": "b50d4c94-1257-4e4e-b7a3-8b480bf73528",
   "metadata": {},
   "outputs": [],
   "source": [
    "encoded_df1 = encoded_df.iloc[:, :2]\n",
    "encoded_df2 = encoded_df.iloc[:, 2:]"
   ]
  },
  {
   "cell_type": "code",
   "execution_count": 40,
   "id": "b47b8250-8ffa-49dc-a903-463779aae49b",
   "metadata": {},
   "outputs": [],
   "source": [
    "# Concatenate the excluded column back\n",
    "df = pd.concat([encoded_df1, excluded_col_df, encoded_df2], axis=1)"
   ]
  },
  {
   "cell_type": "code",
   "execution_count": 41,
   "id": "ba65d5d6-68e3-4d26-a14c-c826364775e3",
   "metadata": {},
   "outputs": [
    {
     "data": {
      "text/html": [
       "<div>\n",
       "<style scoped>\n",
       "    .dataframe tbody tr th:only-of-type {\n",
       "        vertical-align: middle;\n",
       "    }\n",
       "\n",
       "    .dataframe tbody tr th {\n",
       "        vertical-align: top;\n",
       "    }\n",
       "\n",
       "    .dataframe thead th {\n",
       "        text-align: right;\n",
       "    }\n",
       "</style>\n",
       "<table border=\"1\" class=\"dataframe\">\n",
       "  <thead>\n",
       "    <tr style=\"text-align: right;\">\n",
       "      <th></th>\n",
       "      <th>amt</th>\n",
       "      <th>city_pop</th>\n",
       "      <th>is_fraud</th>\n",
       "      <th>category_entertainment</th>\n",
       "      <th>category_food_dining</th>\n",
       "      <th>category_gas_transport</th>\n",
       "      <th>category_grocery_net</th>\n",
       "      <th>category_grocery_pos</th>\n",
       "      <th>category_health_fitness</th>\n",
       "      <th>category_home</th>\n",
       "      <th>...</th>\n",
       "      <th>category_travel</th>\n",
       "      <th>gender_F</th>\n",
       "      <th>gender_M</th>\n",
       "      <th>time_of_day_afternoon</th>\n",
       "      <th>time_of_day_evening</th>\n",
       "      <th>time_of_day_morning</th>\n",
       "      <th>time_of_day_night</th>\n",
       "      <th>age_Middle_age</th>\n",
       "      <th>age_Old</th>\n",
       "      <th>age_Young</th>\n",
       "    </tr>\n",
       "  </thead>\n",
       "  <tbody>\n",
       "    <tr>\n",
       "      <th>0</th>\n",
       "      <td>4</td>\n",
       "      <td>3495</td>\n",
       "      <td>0</td>\n",
       "      <td>0</td>\n",
       "      <td>0</td>\n",
       "      <td>0</td>\n",
       "      <td>0</td>\n",
       "      <td>0</td>\n",
       "      <td>0</td>\n",
       "      <td>0</td>\n",
       "      <td>...</td>\n",
       "      <td>0</td>\n",
       "      <td>1</td>\n",
       "      <td>0</td>\n",
       "      <td>0</td>\n",
       "      <td>0</td>\n",
       "      <td>0</td>\n",
       "      <td>1</td>\n",
       "      <td>1</td>\n",
       "      <td>0</td>\n",
       "      <td>0</td>\n",
       "    </tr>\n",
       "    <tr>\n",
       "      <th>1</th>\n",
       "      <td>107</td>\n",
       "      <td>149</td>\n",
       "      <td>0</td>\n",
       "      <td>0</td>\n",
       "      <td>0</td>\n",
       "      <td>0</td>\n",
       "      <td>0</td>\n",
       "      <td>1</td>\n",
       "      <td>0</td>\n",
       "      <td>0</td>\n",
       "      <td>...</td>\n",
       "      <td>0</td>\n",
       "      <td>1</td>\n",
       "      <td>0</td>\n",
       "      <td>0</td>\n",
       "      <td>0</td>\n",
       "      <td>0</td>\n",
       "      <td>1</td>\n",
       "      <td>1</td>\n",
       "      <td>0</td>\n",
       "      <td>0</td>\n",
       "    </tr>\n",
       "    <tr>\n",
       "      <th>2</th>\n",
       "      <td>220</td>\n",
       "      <td>4154</td>\n",
       "      <td>0</td>\n",
       "      <td>1</td>\n",
       "      <td>0</td>\n",
       "      <td>0</td>\n",
       "      <td>0</td>\n",
       "      <td>0</td>\n",
       "      <td>0</td>\n",
       "      <td>0</td>\n",
       "      <td>...</td>\n",
       "      <td>0</td>\n",
       "      <td>0</td>\n",
       "      <td>1</td>\n",
       "      <td>0</td>\n",
       "      <td>0</td>\n",
       "      <td>0</td>\n",
       "      <td>1</td>\n",
       "      <td>0</td>\n",
       "      <td>1</td>\n",
       "      <td>0</td>\n",
       "    </tr>\n",
       "    <tr>\n",
       "      <th>3</th>\n",
       "      <td>45</td>\n",
       "      <td>1939</td>\n",
       "      <td>0</td>\n",
       "      <td>0</td>\n",
       "      <td>0</td>\n",
       "      <td>1</td>\n",
       "      <td>0</td>\n",
       "      <td>0</td>\n",
       "      <td>0</td>\n",
       "      <td>0</td>\n",
       "      <td>...</td>\n",
       "      <td>0</td>\n",
       "      <td>0</td>\n",
       "      <td>1</td>\n",
       "      <td>0</td>\n",
       "      <td>0</td>\n",
       "      <td>0</td>\n",
       "      <td>1</td>\n",
       "      <td>1</td>\n",
       "      <td>0</td>\n",
       "      <td>0</td>\n",
       "    </tr>\n",
       "    <tr>\n",
       "      <th>4</th>\n",
       "      <td>41</td>\n",
       "      <td>99</td>\n",
       "      <td>0</td>\n",
       "      <td>0</td>\n",
       "      <td>0</td>\n",
       "      <td>0</td>\n",
       "      <td>0</td>\n",
       "      <td>0</td>\n",
       "      <td>0</td>\n",
       "      <td>0</td>\n",
       "      <td>...</td>\n",
       "      <td>0</td>\n",
       "      <td>0</td>\n",
       "      <td>1</td>\n",
       "      <td>0</td>\n",
       "      <td>0</td>\n",
       "      <td>0</td>\n",
       "      <td>1</td>\n",
       "      <td>1</td>\n",
       "      <td>0</td>\n",
       "      <td>0</td>\n",
       "    </tr>\n",
       "  </tbody>\n",
       "</table>\n",
       "<p>5 rows × 26 columns</p>\n",
       "</div>"
      ],
      "text/plain": [
       "   amt  city_pop is_fraud  category_entertainment  category_food_dining  \\\n",
       "0    4      3495        0                       0                     0   \n",
       "1  107       149        0                       0                     0   \n",
       "2  220      4154        0                       1                     0   \n",
       "3   45      1939        0                       0                     0   \n",
       "4   41        99        0                       0                     0   \n",
       "\n",
       "   category_gas_transport  category_grocery_net  category_grocery_pos  \\\n",
       "0                       0                     0                     0   \n",
       "1                       0                     0                     1   \n",
       "2                       0                     0                     0   \n",
       "3                       1                     0                     0   \n",
       "4                       0                     0                     0   \n",
       "\n",
       "   category_health_fitness  category_home  ...  category_travel  gender_F  \\\n",
       "0                        0              0  ...                0         1   \n",
       "1                        0              0  ...                0         1   \n",
       "2                        0              0  ...                0         0   \n",
       "3                        0              0  ...                0         0   \n",
       "4                        0              0  ...                0         0   \n",
       "\n",
       "   gender_M  time_of_day_afternoon  time_of_day_evening  time_of_day_morning  \\\n",
       "0         0                      0                    0                    0   \n",
       "1         0                      0                    0                    0   \n",
       "2         1                      0                    0                    0   \n",
       "3         1                      0                    0                    0   \n",
       "4         1                      0                    0                    0   \n",
       "\n",
       "   time_of_day_night  age_Middle_age  age_Old  age_Young  \n",
       "0                  1               1        0          0  \n",
       "1                  1               1        0          0  \n",
       "2                  1               0        1          0  \n",
       "3                  1               1        0          0  \n",
       "4                  1               1        0          0  \n",
       "\n",
       "[5 rows x 26 columns]"
      ]
     },
     "execution_count": 41,
     "metadata": {},
     "output_type": "execute_result"
    }
   ],
   "source": [
    "df.head()"
   ]
  },
  {
   "cell_type": "code",
   "execution_count": 42,
   "id": "ad168001-0d04-4ba0-9ad5-ad20945d85a3",
   "metadata": {},
   "outputs": [
    {
     "data": {
      "text/plain": [
       "is_fraud\n",
       "0    1842743\n",
       "1       9651\n",
       "Name: count, dtype: int64"
      ]
     },
     "execution_count": 42,
     "metadata": {},
     "output_type": "execute_result"
    }
   ],
   "source": [
    "df['is_fraud'].value_counts()"
   ]
  },
  {
   "cell_type": "code",
   "execution_count": 43,
   "id": "df2bc28e-f460-4d62-a689-ea7a35cbfe6d",
   "metadata": {},
   "outputs": [
    {
     "data": {
      "text/plain": [
       "(1852394, 26)"
      ]
     },
     "execution_count": 43,
     "metadata": {},
     "output_type": "execute_result"
    }
   ],
   "source": [
    "df.shape"
   ]
  },
  {
   "cell_type": "code",
   "execution_count": 44,
   "id": "49c75847-6a95-422a-bcb8-73d16dac71b1",
   "metadata": {},
   "outputs": [],
   "source": [
    "X = df.drop(['is_fraud'] , axis = 1)\n",
    "y = df['is_fraud']"
   ]
  },
  {
   "cell_type": "code",
   "execution_count": 45,
   "id": "1b5d87a1-9f24-4cad-8727-2f74ae86216a",
   "metadata": {},
   "outputs": [],
   "source": [
    "X_train, X_test, y_train, y_test = train_test_split(X, y, test_size=0.3, random_state=42)"
   ]
  },
  {
   "cell_type": "markdown",
   "id": "09e77f9e-c54c-4a0c-b1ea-29325349b691",
   "metadata": {},
   "source": [
    "### Modeling"
   ]
  },
  {
   "cell_type": "markdown",
   "id": "a921a972-1199-4cee-86d9-14faef2a1119",
   "metadata": {},
   "source": [
    "#### Logistic Regression"
   ]
  },
  {
   "cell_type": "code",
   "execution_count": 47,
   "id": "9d986f32-1251-4ff4-8455-343ff8ab1690",
   "metadata": {},
   "outputs": [],
   "source": [
    "lr_model = LogisticRegression()"
   ]
  },
  {
   "cell_type": "code",
   "execution_count": 48,
   "id": "00374309-3f79-403f-919f-7a4e4a7938e0",
   "metadata": {},
   "outputs": [
    {
     "name": "stdout",
     "output_type": "stream",
     "text": [
      "CPU times: total: 44.1 s\n",
      "Wall time: 18.4 s\n"
     ]
    },
    {
     "data": {
      "text/html": [
       "<style>#sk-container-id-1 {color: black;background-color: white;}#sk-container-id-1 pre{padding: 0;}#sk-container-id-1 div.sk-toggleable {background-color: white;}#sk-container-id-1 label.sk-toggleable__label {cursor: pointer;display: block;width: 100%;margin-bottom: 0;padding: 0.3em;box-sizing: border-box;text-align: center;}#sk-container-id-1 label.sk-toggleable__label-arrow:before {content: \"▸\";float: left;margin-right: 0.25em;color: #696969;}#sk-container-id-1 label.sk-toggleable__label-arrow:hover:before {color: black;}#sk-container-id-1 div.sk-estimator:hover label.sk-toggleable__label-arrow:before {color: black;}#sk-container-id-1 div.sk-toggleable__content {max-height: 0;max-width: 0;overflow: hidden;text-align: left;background-color: #f0f8ff;}#sk-container-id-1 div.sk-toggleable__content pre {margin: 0.2em;color: black;border-radius: 0.25em;background-color: #f0f8ff;}#sk-container-id-1 input.sk-toggleable__control:checked~div.sk-toggleable__content {max-height: 200px;max-width: 100%;overflow: auto;}#sk-container-id-1 input.sk-toggleable__control:checked~label.sk-toggleable__label-arrow:before {content: \"▾\";}#sk-container-id-1 div.sk-estimator input.sk-toggleable__control:checked~label.sk-toggleable__label {background-color: #d4ebff;}#sk-container-id-1 div.sk-label input.sk-toggleable__control:checked~label.sk-toggleable__label {background-color: #d4ebff;}#sk-container-id-1 input.sk-hidden--visually {border: 0;clip: rect(1px 1px 1px 1px);clip: rect(1px, 1px, 1px, 1px);height: 1px;margin: -1px;overflow: hidden;padding: 0;position: absolute;width: 1px;}#sk-container-id-1 div.sk-estimator {font-family: monospace;background-color: #f0f8ff;border: 1px dotted black;border-radius: 0.25em;box-sizing: border-box;margin-bottom: 0.5em;}#sk-container-id-1 div.sk-estimator:hover {background-color: #d4ebff;}#sk-container-id-1 div.sk-parallel-item::after {content: \"\";width: 100%;border-bottom: 1px solid gray;flex-grow: 1;}#sk-container-id-1 div.sk-label:hover label.sk-toggleable__label {background-color: #d4ebff;}#sk-container-id-1 div.sk-serial::before {content: \"\";position: absolute;border-left: 1px solid gray;box-sizing: border-box;top: 0;bottom: 0;left: 50%;z-index: 0;}#sk-container-id-1 div.sk-serial {display: flex;flex-direction: column;align-items: center;background-color: white;padding-right: 0.2em;padding-left: 0.2em;position: relative;}#sk-container-id-1 div.sk-item {position: relative;z-index: 1;}#sk-container-id-1 div.sk-parallel {display: flex;align-items: stretch;justify-content: center;background-color: white;position: relative;}#sk-container-id-1 div.sk-item::before, #sk-container-id-1 div.sk-parallel-item::before {content: \"\";position: absolute;border-left: 1px solid gray;box-sizing: border-box;top: 0;bottom: 0;left: 50%;z-index: -1;}#sk-container-id-1 div.sk-parallel-item {display: flex;flex-direction: column;z-index: 1;position: relative;background-color: white;}#sk-container-id-1 div.sk-parallel-item:first-child::after {align-self: flex-end;width: 50%;}#sk-container-id-1 div.sk-parallel-item:last-child::after {align-self: flex-start;width: 50%;}#sk-container-id-1 div.sk-parallel-item:only-child::after {width: 0;}#sk-container-id-1 div.sk-dashed-wrapped {border: 1px dashed gray;margin: 0 0.4em 0.5em 0.4em;box-sizing: border-box;padding-bottom: 0.4em;background-color: white;}#sk-container-id-1 div.sk-label label {font-family: monospace;font-weight: bold;display: inline-block;line-height: 1.2em;}#sk-container-id-1 div.sk-label-container {text-align: center;}#sk-container-id-1 div.sk-container {/* jupyter's `normalize.less` sets `[hidden] { display: none; }` but bootstrap.min.css set `[hidden] { display: none !important; }` so we also need the `!important` here to be able to override the default hidden behavior on the sphinx rendered scikit-learn.org. See: https://github.com/scikit-learn/scikit-learn/issues/21755 */display: inline-block !important;position: relative;}#sk-container-id-1 div.sk-text-repr-fallback {display: none;}</style><div id=\"sk-container-id-1\" class=\"sk-top-container\"><div class=\"sk-text-repr-fallback\"><pre>LogisticRegression()</pre><b>In a Jupyter environment, please rerun this cell to show the HTML representation or trust the notebook. <br />On GitHub, the HTML representation is unable to render, please try loading this page with nbviewer.org.</b></div><div class=\"sk-container\" hidden><div class=\"sk-item\"><div class=\"sk-estimator sk-toggleable\"><input class=\"sk-toggleable__control sk-hidden--visually\" id=\"sk-estimator-id-1\" type=\"checkbox\" checked><label for=\"sk-estimator-id-1\" class=\"sk-toggleable__label sk-toggleable__label-arrow\">LogisticRegression</label><div class=\"sk-toggleable__content\"><pre>LogisticRegression()</pre></div></div></div></div></div>"
      ],
      "text/plain": [
       "LogisticRegression()"
      ]
     },
     "execution_count": 48,
     "metadata": {},
     "output_type": "execute_result"
    }
   ],
   "source": [
    "%%time\n",
    "lr_model.fit(X_train, y_train)"
   ]
  },
  {
   "cell_type": "code",
   "execution_count": 49,
   "id": "6a20b332-4da9-42bf-a1bf-1da13730682d",
   "metadata": {},
   "outputs": [],
   "source": [
    "y_lr_pred = lr_model.predict(X_test)"
   ]
  },
  {
   "cell_type": "code",
   "execution_count": 50,
   "id": "70af59c3-fb69-4322-95be-f1f8c4006aed",
   "metadata": {},
   "outputs": [
    {
     "data": {
      "text/plain": [
       "0.9942866808584915"
      ]
     },
     "execution_count": 50,
     "metadata": {},
     "output_type": "execute_result"
    }
   ],
   "source": [
    "accuracy_score(y_lr_pred, y_test)"
   ]
  },
  {
   "cell_type": "code",
   "execution_count": 51,
   "id": "adcc411a-2f89-4764-ac49-2a1afee2c851",
   "metadata": {},
   "outputs": [
    {
     "name": "stdout",
     "output_type": "stream",
     "text": [
      "              precision    recall  f1-score   support\n",
      "\n",
      "           0       1.00      0.99      1.00    555482\n",
      "           1       0.00      0.00      0.00       237\n",
      "\n",
      "    accuracy                           0.99    555719\n",
      "   macro avg       0.50      0.50      0.50    555719\n",
      "weighted avg       1.00      0.99      1.00    555719\n",
      "\n"
     ]
    }
   ],
   "source": [
    "print(classification_report(y_lr_pred, y_test))"
   ]
  },
  {
   "cell_type": "markdown",
   "id": "6b3dcdb6-6849-4fbc-950a-562fdca81b6c",
   "metadata": {},
   "source": [
    "#### We got 99.4% Accuracy in this model"
   ]
  },
  {
   "cell_type": "markdown",
   "id": "70bb9f2d-8ddb-423d-a7cc-dda13883ac13",
   "metadata": {},
   "source": [
    "#### KNeighbors Classifier"
   ]
  },
  {
   "cell_type": "code",
   "execution_count": 50,
   "id": "a54d11a9-9e67-4464-b466-bf8f3f516f1d",
   "metadata": {},
   "outputs": [],
   "source": [
    "knc_model = KNeighborsClassifier()"
   ]
  },
  {
   "cell_type": "code",
   "execution_count": 51,
   "id": "ca21d8f2-e7c0-4891-8c80-764a159f56af",
   "metadata": {},
   "outputs": [
    {
     "name": "stdout",
     "output_type": "stream",
     "text": [
      "CPU times: total: 5.72 s\n",
      "Wall time: 5.74 s\n"
     ]
    },
    {
     "data": {
      "text/html": [
       "<style>#sk-container-id-2 {color: black;background-color: white;}#sk-container-id-2 pre{padding: 0;}#sk-container-id-2 div.sk-toggleable {background-color: white;}#sk-container-id-2 label.sk-toggleable__label {cursor: pointer;display: block;width: 100%;margin-bottom: 0;padding: 0.3em;box-sizing: border-box;text-align: center;}#sk-container-id-2 label.sk-toggleable__label-arrow:before {content: \"▸\";float: left;margin-right: 0.25em;color: #696969;}#sk-container-id-2 label.sk-toggleable__label-arrow:hover:before {color: black;}#sk-container-id-2 div.sk-estimator:hover label.sk-toggleable__label-arrow:before {color: black;}#sk-container-id-2 div.sk-toggleable__content {max-height: 0;max-width: 0;overflow: hidden;text-align: left;background-color: #f0f8ff;}#sk-container-id-2 div.sk-toggleable__content pre {margin: 0.2em;color: black;border-radius: 0.25em;background-color: #f0f8ff;}#sk-container-id-2 input.sk-toggleable__control:checked~div.sk-toggleable__content {max-height: 200px;max-width: 100%;overflow: auto;}#sk-container-id-2 input.sk-toggleable__control:checked~label.sk-toggleable__label-arrow:before {content: \"▾\";}#sk-container-id-2 div.sk-estimator input.sk-toggleable__control:checked~label.sk-toggleable__label {background-color: #d4ebff;}#sk-container-id-2 div.sk-label input.sk-toggleable__control:checked~label.sk-toggleable__label {background-color: #d4ebff;}#sk-container-id-2 input.sk-hidden--visually {border: 0;clip: rect(1px 1px 1px 1px);clip: rect(1px, 1px, 1px, 1px);height: 1px;margin: -1px;overflow: hidden;padding: 0;position: absolute;width: 1px;}#sk-container-id-2 div.sk-estimator {font-family: monospace;background-color: #f0f8ff;border: 1px dotted black;border-radius: 0.25em;box-sizing: border-box;margin-bottom: 0.5em;}#sk-container-id-2 div.sk-estimator:hover {background-color: #d4ebff;}#sk-container-id-2 div.sk-parallel-item::after {content: \"\";width: 100%;border-bottom: 1px solid gray;flex-grow: 1;}#sk-container-id-2 div.sk-label:hover label.sk-toggleable__label {background-color: #d4ebff;}#sk-container-id-2 div.sk-serial::before {content: \"\";position: absolute;border-left: 1px solid gray;box-sizing: border-box;top: 0;bottom: 0;left: 50%;z-index: 0;}#sk-container-id-2 div.sk-serial {display: flex;flex-direction: column;align-items: center;background-color: white;padding-right: 0.2em;padding-left: 0.2em;position: relative;}#sk-container-id-2 div.sk-item {position: relative;z-index: 1;}#sk-container-id-2 div.sk-parallel {display: flex;align-items: stretch;justify-content: center;background-color: white;position: relative;}#sk-container-id-2 div.sk-item::before, #sk-container-id-2 div.sk-parallel-item::before {content: \"\";position: absolute;border-left: 1px solid gray;box-sizing: border-box;top: 0;bottom: 0;left: 50%;z-index: -1;}#sk-container-id-2 div.sk-parallel-item {display: flex;flex-direction: column;z-index: 1;position: relative;background-color: white;}#sk-container-id-2 div.sk-parallel-item:first-child::after {align-self: flex-end;width: 50%;}#sk-container-id-2 div.sk-parallel-item:last-child::after {align-self: flex-start;width: 50%;}#sk-container-id-2 div.sk-parallel-item:only-child::after {width: 0;}#sk-container-id-2 div.sk-dashed-wrapped {border: 1px dashed gray;margin: 0 0.4em 0.5em 0.4em;box-sizing: border-box;padding-bottom: 0.4em;background-color: white;}#sk-container-id-2 div.sk-label label {font-family: monospace;font-weight: bold;display: inline-block;line-height: 1.2em;}#sk-container-id-2 div.sk-label-container {text-align: center;}#sk-container-id-2 div.sk-container {/* jupyter's `normalize.less` sets `[hidden] { display: none; }` but bootstrap.min.css set `[hidden] { display: none !important; }` so we also need the `!important` here to be able to override the default hidden behavior on the sphinx rendered scikit-learn.org. See: https://github.com/scikit-learn/scikit-learn/issues/21755 */display: inline-block !important;position: relative;}#sk-container-id-2 div.sk-text-repr-fallback {display: none;}</style><div id=\"sk-container-id-2\" class=\"sk-top-container\"><div class=\"sk-text-repr-fallback\"><pre>KNeighborsClassifier()</pre><b>In a Jupyter environment, please rerun this cell to show the HTML representation or trust the notebook. <br />On GitHub, the HTML representation is unable to render, please try loading this page with nbviewer.org.</b></div><div class=\"sk-container\" hidden><div class=\"sk-item\"><div class=\"sk-estimator sk-toggleable\"><input class=\"sk-toggleable__control sk-hidden--visually\" id=\"sk-estimator-id-2\" type=\"checkbox\" checked><label for=\"sk-estimator-id-2\" class=\"sk-toggleable__label sk-toggleable__label-arrow\">KNeighborsClassifier</label><div class=\"sk-toggleable__content\"><pre>KNeighborsClassifier()</pre></div></div></div></div></div>"
      ],
      "text/plain": [
       "KNeighborsClassifier()"
      ]
     },
     "execution_count": 51,
     "metadata": {},
     "output_type": "execute_result"
    }
   ],
   "source": [
    "%%time\n",
    "knc_model.fit(X_train, y_train)"
   ]
  },
  {
   "cell_type": "code",
   "execution_count": 52,
   "id": "9238e5ab-d411-403a-a14a-c6397a282b6a",
   "metadata": {},
   "outputs": [
    {
     "name": "stdout",
     "output_type": "stream",
     "text": [
      "CPU times: total: 9h 48min 31s\n",
      "Wall time: 5h 2min 16s\n"
     ]
    }
   ],
   "source": [
    "%%time\n",
    "y_knc_pred = knc_model.predict(X_test)"
   ]
  },
  {
   "cell_type": "code",
   "execution_count": 53,
   "id": "e1671ca5-290c-4729-80a6-f0d82235048e",
   "metadata": {},
   "outputs": [
    {
     "data": {
      "text/plain": [
       "0.995119835744324"
      ]
     },
     "execution_count": 53,
     "metadata": {},
     "output_type": "execute_result"
    }
   ],
   "source": [
    "accuracy_score(y_knc_pred, y_test)"
   ]
  },
  {
   "cell_type": "code",
   "execution_count": 54,
   "id": "7fdae3c5-dd73-4ab0-878e-5953c78ac616",
   "metadata": {},
   "outputs": [
    {
     "name": "stdout",
     "output_type": "stream",
     "text": [
      "              precision    recall  f1-score   support\n",
      "\n",
      "           0       1.00      1.00      1.00    554149\n",
      "           1       0.31      0.57      0.40      1570\n",
      "\n",
      "    accuracy                           1.00    555719\n",
      "   macro avg       0.65      0.78      0.70    555719\n",
      "weighted avg       1.00      1.00      1.00    555719\n",
      "\n"
     ]
    }
   ],
   "source": [
    "print(classification_report(y_knc_pred, y_test))"
   ]
  },
  {
   "cell_type": "markdown",
   "id": "a11375a8-4562-45c1-8502-31f80dc87712",
   "metadata": {},
   "source": [
    "#### We got 99.5% Accuracy from this model after training it for 9 hours approx"
   ]
  },
  {
   "cell_type": "markdown",
   "id": "0bcf0aa2-b306-4604-8a4b-2bbbd21d9788",
   "metadata": {},
   "source": [
    "#### Random Forest Classifier"
   ]
  },
  {
   "cell_type": "code",
   "execution_count": 45,
   "id": "04c7e226-df5e-405a-9192-8a8fc1b80ea8",
   "metadata": {},
   "outputs": [],
   "source": [
    "rfc_model = RandomForestClassifier()"
   ]
  },
  {
   "cell_type": "code",
   "execution_count": 46,
   "id": "003c7a12-f377-499c-891d-453e2ff24197",
   "metadata": {},
   "outputs": [],
   "source": [
    "# Determine set of hyperparameters for random forest\n",
    "rfc_params = {'n_estimators' : [50, 100, 150, 200], \n",
    "              'max_depth':[4,5,6,7,8,9,10,11,12,15,20,30,40,50],\n",
    "             'min_samples_leaf': [2, 5, 10, 20, 50],\n",
    "             'min_samples_split': [2, 4, 6],\n",
    "              'max_features' : [\"sqrt\"], \n",
    "              'max_samples' : [.5,.9]}\n",
    "\n",
    "# scores = {'accuracy': 'accuracy' , 'precision':'precision', 'recall' : 'recall', 'f1':'f1'}"
   ]
  },
  {
   "cell_type": "code",
   "execution_count": 47,
   "id": "0c53f4f4-837e-43b5-8d60-d56a014551e8",
   "metadata": {},
   "outputs": [],
   "source": [
    "# rfc_gcv_model = GridSearchCV(rfc_model, rfc_params, scoring = scores)\n",
    "rfc_gcv_model = GridSearchCV(rfc_model, rfc_params)"
   ]
  },
  {
   "cell_type": "code",
   "execution_count": null,
   "id": "20bb0362-1c71-48e3-a74f-f08df44474cb",
   "metadata": {},
   "outputs": [],
   "source": [
    "%%time\n",
    "rfc_gcv_model.fit(X_train, y_train)"
   ]
  },
  {
   "cell_type": "code",
   "execution_count": null,
   "id": "153561e6-50e7-4b69-9d3b-1771738317de",
   "metadata": {},
   "outputs": [],
   "source": [
    "%%time\n",
    "y_rfc_gcv_pred = rfc_gcv_model.predict(X_test)"
   ]
  },
  {
   "cell_type": "code",
   "execution_count": null,
   "id": "16d56166-7ecc-444f-9e3b-ef9d07b82c0c",
   "metadata": {},
   "outputs": [],
   "source": [
    "rfc_gcv_model.best_params_"
   ]
  },
  {
   "cell_type": "code",
   "execution_count": null,
   "id": "bcb764f7-ae99-41a6-9c00-268502ea1fc1",
   "metadata": {},
   "outputs": [],
   "source": [
    "accuracy_score(y_rfc_gcv_pred, y_test)"
   ]
  },
  {
   "cell_type": "code",
   "execution_count": null,
   "id": "18d95a21-d030-47fa-92a7-10286833c2fe",
   "metadata": {},
   "outputs": [],
   "source": [
    "print(classification_report(y_rfc_gcv_pred, y_test))"
   ]
  },
  {
   "cell_type": "markdown",
   "id": "20799626-7ad3-4eb9-8249-4c23fb3f94ff",
   "metadata": {},
   "source": [
    "#### I left this model as it took me around 7 to 8 hours more to train the model "
   ]
  },
  {
   "cell_type": "markdown",
   "id": "7ae4a0f6-8966-4a97-8dd5-8f46ea1b2914",
   "metadata": {},
   "source": [
    "#### You can also try training this model without using Cross Validation which will take less time to train"
   ]
  },
  {
   "cell_type": "markdown",
   "id": "76f8d8d8-1f45-4faf-908d-9a8762dabdbe",
   "metadata": {},
   "source": [
    "#### Support Vector Classifier"
   ]
  },
  {
   "cell_type": "code",
   "execution_count": 47,
   "id": "8cbd59c7-f54a-4a0a-b2ea-c8dcf6891ea6",
   "metadata": {},
   "outputs": [],
   "source": [
    "svc_model = SVC()"
   ]
  },
  {
   "cell_type": "code",
   "execution_count": 48,
   "id": "6eca9659-0894-4adc-a311-c193f2e7a39f",
   "metadata": {},
   "outputs": [],
   "source": [
    "# Standardizing the dataset\n",
    "from sklearn.preprocessing import StandardScaler\n",
    "scaler = StandardScaler()\n",
    "X_train_scaled = scaler.fit_transform(X_train)\n",
    "X_test_scaled = scaler.transform(X_test)"
   ]
  },
  {
   "cell_type": "code",
   "execution_count": null,
   "id": "0534b3d8-4e3d-40ad-a171-24037757a7e2",
   "metadata": {},
   "outputs": [],
   "source": [
    "%%time\n",
    "svc_model.fit(X_train_scaled, y_train)"
   ]
  },
  {
   "cell_type": "code",
   "execution_count": null,
   "id": "d12070b1-4414-4e4b-9f2c-7008791a48bb",
   "metadata": {},
   "outputs": [],
   "source": [
    "%%time\n",
    "y_svc_pred = svc_model.predict(X_test_scaled)"
   ]
  },
  {
   "cell_type": "code",
   "execution_count": null,
   "id": "f6f0e9a9-2562-4b82-ab87-320131f02cc7",
   "metadata": {},
   "outputs": [],
   "source": [
    "accuracy_score(y_svc_pred, y_test)"
   ]
  },
  {
   "cell_type": "code",
   "execution_count": null,
   "id": "f0658c63-2e07-4803-afbf-2f51c5d8d6a0",
   "metadata": {},
   "outputs": [],
   "source": [
    "print(classification_report(y_svc_pred, y_test))"
   ]
  },
  {
   "cell_type": "markdown",
   "id": "f5f33b9f-ee48-4362-9efe-f2c44db33596",
   "metadata": {},
   "source": [
    "#### Same goes to this model too"
   ]
  },
  {
   "cell_type": "markdown",
   "id": "667898ba-493e-4860-9cb1-e3728173aa2a",
   "metadata": {},
   "source": [
    "#### You can also try training this model without Standardizing it. It may take less time to train"
   ]
  },
  {
   "cell_type": "markdown",
   "id": "2c61b506-561e-46de-ad1f-f9c1ab1a973c",
   "metadata": {},
   "source": [
    "##### --------------------------------------------------------------------------------------------------------------------------------------------------------------------------------------------"
   ]
  },
  {
   "cell_type": "markdown",
   "id": "e93fc62b-35c1-420e-92c8-068fa9dc3658",
   "metadata": {},
   "source": [
    "## Now we are having only 2 models and their accuracy scores are insane and matchs to 99%. But In a race there must be one winner and others are chasers so In my case of modeling the winner model is KNeighbours Classifier winning with 0.001% from Logistic Regression  \n",
    "\n",
    "### Accuracy Scores of Our Successfully Compiled Models :->\n",
    "\n",
    "### --> Logistic Regression 0.994 i.e., 99.4%  \n",
    "### --> KNeighbours Classifier 0.995 i.e., 99.5%"
   ]
  },
  {
   "cell_type": "markdown",
   "id": "6c2580a5-c915-4656-b2ae-2fa231be0bfe",
   "metadata": {},
   "source": [
    "##### --------------------------------------------------------------------------------------------------------------------------------------------------------------------------------------------"
   ]
  },
  {
   "cell_type": "markdown",
   "id": "3f487ef5-58c8-447d-a534-41dc4f3a0f9a",
   "metadata": {},
   "source": [
    "#### This book is just an analysis. If you want to make a model or a pickle file from it then my suggestion is either dont use encoding or else use label encoding as you will make a pickle file then you will also deploy it on a webapp then there it be like a bunch of input variables. You can also do some research on it. I am also currently working on right now on how to deploy it without changing the one hot encoding part.  \n",
    "\n",
    "#### Peace! Happy Training"
   ]
  },
  {
   "cell_type": "code",
   "execution_count": null,
   "id": "e302ac86-fa46-47d0-be91-708952bfb900",
   "metadata": {},
   "outputs": [],
   "source": []
  }
 ],
 "metadata": {
  "kernelspec": {
   "display_name": "Python 3 (ipykernel)",
   "language": "python",
   "name": "python3"
  },
  "language_info": {
   "codemirror_mode": {
    "name": "ipython",
    "version": 3
   },
   "file_extension": ".py",
   "mimetype": "text/x-python",
   "name": "python",
   "nbconvert_exporter": "python",
   "pygments_lexer": "ipython3",
   "version": "3.11.5"
  }
 },
 "nbformat": 4,
 "nbformat_minor": 5
}
